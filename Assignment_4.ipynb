{
  "nbformat": 4,
  "nbformat_minor": 0,
  "metadata": {
    "colab": {
      "name": "Assignment_4.ipynb",
      "provenance": [],
      "mount_file_id": "1IAfNfG-6-rw58XlMbMHRDL2SKbsD_mhm",
      "authorship_tag": "ABX9TyMiuqMUhWwRDrcNkNfhAbXI",
      "include_colab_link": true
    },
    "kernelspec": {
      "name": "python3",
      "display_name": "Python 3"
    },
    "language_info": {
      "name": "python"
    }
  },
  "cells": [
    {
      "cell_type": "markdown",
      "metadata": {
        "id": "view-in-github",
        "colab_type": "text"
      },
      "source": [
        "<a href=\"https://colab.research.google.com/github/SighOfFrostmourne/ECOM6022/blob/main/Assignment_4.ipynb\" target=\"_parent\"><img src=\"https://colab.research.google.com/assets/colab-badge.svg\" alt=\"Open In Colab\"/></a>"
      ]
    },
    {
      "cell_type": "markdown",
      "source": [
        "# Assignment 4"
      ],
      "metadata": {
        "id": "YMjlK1alMB9k"
      }
    },
    {
      "cell_type": "markdown",
      "source": [
        "## Environment setup and loading data"
      ],
      "metadata": {
        "id": "nWVipLbqMEcb"
      }
    },
    {
      "cell_type": "markdown",
      "source": [
        "### Environment setup"
      ],
      "metadata": {
        "id": "szYuzcCdMHka"
      }
    },
    {
      "cell_type": "code",
      "execution_count": 1,
      "metadata": {
        "id": "iGf3T7QQLztB"
      },
      "outputs": [],
      "source": [
        "# Python ≥3.5 and Scikit-Learn ≥0.20 are required\n",
        "import sys\n",
        "import sklearn\n",
        "import numpy as np\n",
        "import os\n",
        "\n",
        "# To plot pretty figures (for report etc)\n",
        "%matplotlib inline\n",
        "import matplotlib as mpl\n",
        "import matplotlib.pyplot as plt\n",
        "mpl.rc('axes', labelsize=14)\n",
        "mpl.rc('xtick', labelsize=12)\n",
        "mpl.rc('ytick', labelsize=12)\n",
        "\n",
        "# Where to save the figures\n",
        "ROOT_PATH = \"/content/drive/MyDrive/ECOM6022/Assignment_4\"\n",
        "os.chdir(ROOT_PATH)\n",
        "PROJECT_ROOT_DIR = \".\"\n",
        "CHAPTER_ID = \"Assignment_4\"\n",
        "HEIGHT_PATH = os.path.join(ROOT_PATH, \"datasets\")\n",
        "IMAGES_PATH = os.path.join(PROJECT_ROOT_DIR, \"images\", CHAPTER_ID)\n",
        "os.makedirs(IMAGES_PATH, exist_ok=True)\n",
        "\n",
        "def save_fig(fig_id, tight_layout=True, fig_extension=\"png\", resolution=300):\n",
        "    path = os.path.join(IMAGES_PATH, fig_id + \".\" + fig_extension)\n",
        "    print(\"Saving figure\", fig_id)\n",
        "    if tight_layout:\n",
        "        plt.tight_layout()\n",
        "    plt.savefig(path, format=fig_extension, dpi=resolution)"
      ]
    }
  ]
}