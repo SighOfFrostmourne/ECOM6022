{
  "cells": [
    {
      "cell_type": "markdown",
      "metadata": {
        "id": "view-in-github",
        "colab_type": "text"
      },
      "source": [
        "<a href=\"https://colab.research.google.com/github/SighOfFrostmourne/ECOM6022/blob/main/Topic_7_Unsupervised_Learning.ipynb\" target=\"_parent\"><img src=\"https://colab.research.google.com/assets/colab-badge.svg\" alt=\"Open In Colab\"/></a>"
      ]
    },
    {
      "cell_type": "markdown",
      "metadata": {
        "id": "Xh0IBztnlDKz"
      },
      "source": [
        "**Chapter 9 – Unsupervised Learning**\n",
        "\n",
        "This is the Python code notebook for Topic 7 - Unsupervised Learning by the textbook author with additional comments for ECIC.  We skip Probability Density Estimation and a few other algorithms in course. "
      ]
    },
    {
      "cell_type": "markdown",
      "metadata": {
        "id": "NVZsPVowlDK3"
      },
      "source": [
        "# Setup\n",
        "Standard setup for all our Colab Notebook which appears in each and every notebook for this course."
      ]
    },
    {
      "cell_type": "code",
      "source": [
        "# Import the commonly used libraries and modules\n",
        "import sys\n",
        "import sklearn\n",
        "import numpy as np\n",
        "import os\n",
        "\n",
        "# to make this notebook's output stable across runs\n",
        "np.random.seed(42)\n",
        "\n",
        "# To plot pretty figures\n",
        "%matplotlib inline\n",
        "import matplotlib as mpl\n",
        "import matplotlib.pyplot as plt\n",
        "mpl.rc('axes', labelsize=14)\n",
        "mpl.rc('xtick', labelsize=12)\n",
        "mpl.rc('ytick', labelsize=12)\n",
        "\n",
        "# Where to save the figures (i.e. /content/images/Topic_4)\n",
        "PROJECT_ROOT_DIR = \".\"\n",
        "CHAPTER_ID = \"Topic_7\"\n",
        "IMAGES_PATH = os.path.join(PROJECT_ROOT_DIR, \"images\", CHAPTER_ID)\n",
        "os.makedirs(IMAGES_PATH, exist_ok=True)\n",
        "\n",
        "def save_fig(fig_id, tight_layout=True, fig_extension=\"png\", resolution=300):\n",
        "    path = os.path.join(IMAGES_PATH, fig_id + \".\" + fig_extension)\n",
        "    print(\"Saving figure\", fig_id)\n",
        "    if tight_layout:\n",
        "        plt.tight_layout()\n",
        "    plt.savefig(path, format=fig_extension, dpi=resolution)"
      ],
      "metadata": {
        "id": "VdpDOIL9m2gt"
      },
      "execution_count": null,
      "outputs": []
    },
    {
      "cell_type": "markdown",
      "metadata": {
        "id": "kDfiBFHAlDK5"
      },
      "source": [
        "# Clustering"
      ]
    },
    {
      "cell_type": "markdown",
      "metadata": {
        "id": "HwdAAd95lDK5"
      },
      "source": [
        "**Introduction – Classification _vs_ Clustering**"
      ]
    },
    {
      "cell_type": "code",
      "execution_count": null,
      "metadata": {
        "id": "gsytGZ4IlDK6"
      },
      "outputs": [],
      "source": [
        "from sklearn.datasets import load_iris"
      ]
    },
    {
      "cell_type": "code",
      "execution_count": null,
      "metadata": {
        "id": "WDd3-a1XlDK7"
      },
      "outputs": [],
      "source": [
        "data = load_iris()\n",
        "X = data.data\n",
        "y = data.target\n",
        "data.target_names"
      ]
    },
    {
      "cell_type": "code",
      "execution_count": null,
      "metadata": {
        "id": "W2QiUxollDK8"
      },
      "outputs": [],
      "source": [
        "plt.figure(figsize=(9, 3.5))\n",
        "\n",
        "plt.subplot(121)\n",
        "plt.plot(X[y==0, 2], X[y==0, 3], \"yo\", label=\"Iris setosa\")\n",
        "plt.plot(X[y==1, 2], X[y==1, 3], \"bs\", label=\"Iris versicolor\")\n",
        "plt.plot(X[y==2, 2], X[y==2, 3], \"g^\", label=\"Iris virginica\")\n",
        "plt.xlabel(\"Petal length\", fontsize=14)\n",
        "plt.ylabel(\"Petal width\", fontsize=14)\n",
        "plt.legend(fontsize=12)\n",
        "\n",
        "plt.subplot(122)\n",
        "plt.scatter(X[:, 2], X[:, 3], c=\"k\", marker=\".\")\n",
        "plt.xlabel(\"Petal length\", fontsize=14)\n",
        "plt.tick_params(labelleft=False)\n",
        "\n",
        "save_fig(\"classification_vs_clustering_plot\")\n",
        "plt.show()"
      ]
    },
    {
      "cell_type": "markdown",
      "metadata": {
        "id": "Qe3aZyWzlDK8"
      },
      "source": [
        "A Gaussian mixture model (explained below) can actually separate these clusters pretty well (using all 4 features: petal length & width, and sepal length & width)."
      ]
    },
    {
      "cell_type": "code",
      "execution_count": null,
      "metadata": {
        "id": "8ffiS87ClDK9"
      },
      "outputs": [],
      "source": [
        "from sklearn.mixture import GaussianMixture"
      ]
    },
    {
      "cell_type": "code",
      "execution_count": null,
      "metadata": {
        "id": "g3HdRwLrlDK9"
      },
      "outputs": [],
      "source": [
        "y_pred = GaussianMixture(n_components=3, random_state=42).fit(X).predict(X)"
      ]
    },
    {
      "cell_type": "markdown",
      "metadata": {
        "id": "5QOLimGAlDK9"
      },
      "source": [
        "Let's map each cluster to a class. Instead of hard coding the mapping (as is done in the book, for simplicity), we will pick the most common class for each cluster (using the `scipy.stats.mode()` function):"
      ]
    },
    {
      "cell_type": "code",
      "execution_count": null,
      "metadata": {
        "id": "gwlDNHeZlDK-"
      },
      "outputs": [],
      "source": [
        "from scipy import stats\n",
        "\n",
        "mapping = {}\n",
        "for class_id in np.unique(y):\n",
        "    mode, _ = stats.mode(y_pred[y==class_id])\n",
        "    mapping[mode[0]] = class_id\n",
        "\n",
        "mapping"
      ]
    },
    {
      "cell_type": "code",
      "execution_count": null,
      "metadata": {
        "id": "mAmYOC_7lDK-"
      },
      "outputs": [],
      "source": [
        "y_pred = np.array([mapping[cluster_id] for cluster_id in y_pred])"
      ]
    },
    {
      "cell_type": "code",
      "execution_count": null,
      "metadata": {
        "id": "Cpu5iqb-lDK-"
      },
      "outputs": [],
      "source": [
        "plt.plot(X[y_pred==0, 2], X[y_pred==0, 3], \"yo\", label=\"Cluster 1\")\n",
        "plt.plot(X[y_pred==1, 2], X[y_pred==1, 3], \"bs\", label=\"Cluster 2\")\n",
        "plt.plot(X[y_pred==2, 2], X[y_pred==2, 3], \"g^\", label=\"Cluster 3\")\n",
        "plt.xlabel(\"Petal length\", fontsize=14)\n",
        "plt.ylabel(\"Petal width\", fontsize=14)\n",
        "plt.legend(loc=\"upper left\", fontsize=12)\n",
        "plt.show()"
      ]
    },
    {
      "cell_type": "code",
      "execution_count": null,
      "metadata": {
        "id": "aoq2H2yTlDK_"
      },
      "outputs": [],
      "source": [
        "np.sum(y_pred==y)"
      ]
    },
    {
      "cell_type": "code",
      "execution_count": null,
      "metadata": {
        "id": "h4JqTEVzlDK_"
      },
      "outputs": [],
      "source": [
        "np.sum(y_pred==y) / len(y_pred)"
      ]
    },
    {
      "cell_type": "markdown",
      "metadata": {
        "id": "vOexMBc-lDK_"
      },
      "source": [
        "**Note**: the results in this notebook may differ slightly from the book. This is because algorithms can sometimes be tweaked a bit between Scikit-Learn versions."
      ]
    },
    {
      "cell_type": "markdown",
      "metadata": {
        "id": "CUKCXTWulDK_"
      },
      "source": [
        "## K-Means"
      ]
    },
    {
      "cell_type": "markdown",
      "metadata": {
        "id": "nkiR9cVqlDLA"
      },
      "source": [
        "Let's start by generating some blobs:"
      ]
    },
    {
      "cell_type": "code",
      "execution_count": null,
      "metadata": {
        "id": "IGPeKWMwlDLA"
      },
      "outputs": [],
      "source": [
        "from sklearn.datasets import make_blobs"
      ]
    },
    {
      "cell_type": "code",
      "execution_count": null,
      "metadata": {
        "id": "LIt20ldplDLA"
      },
      "outputs": [],
      "source": [
        "blob_centers = np.array(\n",
        "    [[ 0.2,  2.3],\n",
        "     [-1.5 ,  2.3],\n",
        "     [-2.8,  1.8],\n",
        "     [-2.8,  2.8],\n",
        "     [-2.8,  1.3]])\n",
        "blob_std = np.array([0.4, 0.3, 0.1, 0.1, 0.1])"
      ]
    },
    {
      "cell_type": "code",
      "execution_count": null,
      "metadata": {
        "id": "svJrDijMlDLA"
      },
      "outputs": [],
      "source": [
        "X, y = make_blobs(n_samples=2000, centers=blob_centers,\n",
        "                  cluster_std=blob_std, random_state=7)"
      ]
    },
    {
      "cell_type": "markdown",
      "metadata": {
        "id": "C4Pu2698lDLA"
      },
      "source": [
        "Now let's plot them:"
      ]
    },
    {
      "cell_type": "code",
      "execution_count": null,
      "metadata": {
        "id": "VrO8nx4QlDLA"
      },
      "outputs": [],
      "source": [
        "def plot_clusters(X, y=None):\n",
        "    plt.scatter(X[:, 0], X[:, 1], c=y, s=1)\n",
        "    plt.xlabel(\"$x_1$\", fontsize=14)\n",
        "    plt.ylabel(\"$x_2$\", fontsize=14, rotation=0)"
      ]
    },
    {
      "cell_type": "code",
      "execution_count": null,
      "metadata": {
        "id": "24DUzUpqlDLB"
      },
      "outputs": [],
      "source": [
        "plt.figure(figsize=(8, 4))\n",
        "plot_clusters(X)\n",
        "save_fig(\"blobs_plot\")\n",
        "plt.show()"
      ]
    },
    {
      "cell_type": "markdown",
      "metadata": {
        "id": "K9S3cQUclDLB"
      },
      "source": [
        "**Fit and predict**"
      ]
    },
    {
      "cell_type": "markdown",
      "metadata": {
        "id": "MwE2fwoqlDLB"
      },
      "source": [
        "Let's train a K-Means clusterer on this dataset. It will try to find each blob's center and assign each instance to the closest blob:"
      ]
    },
    {
      "cell_type": "code",
      "execution_count": null,
      "metadata": {
        "id": "ULFekObFlDLB"
      },
      "outputs": [],
      "source": [
        "from sklearn.cluster import KMeans"
      ]
    },
    {
      "cell_type": "code",
      "execution_count": null,
      "metadata": {
        "id": "m_dGpsbllDLB"
      },
      "outputs": [],
      "source": [
        "k = 5\n",
        "kmeans = KMeans(n_clusters=k, random_state=42)\n",
        "y_pred = kmeans.fit_predict(X)"
      ]
    },
    {
      "cell_type": "markdown",
      "metadata": {
        "id": "5rI5uYABlDLC"
      },
      "source": [
        "Each instance was assigned to one of the 5 clusters:"
      ]
    },
    {
      "cell_type": "code",
      "execution_count": null,
      "metadata": {
        "id": "ZnwbXjIYlDLC"
      },
      "outputs": [],
      "source": [
        "y_pred"
      ]
    },
    {
      "cell_type": "code",
      "execution_count": null,
      "metadata": {
        "id": "Yzb1MaRWlDLC"
      },
      "outputs": [],
      "source": [
        "y_pred is kmeans.labels_"
      ]
    },
    {
      "cell_type": "markdown",
      "metadata": {
        "id": "a9rGffTslDLC"
      },
      "source": [
        "And the following 5 _centroids_ (i.e., cluster centers) were estimated:"
      ]
    },
    {
      "cell_type": "code",
      "execution_count": null,
      "metadata": {
        "id": "gg-k92H3lDLD"
      },
      "outputs": [],
      "source": [
        "kmeans.cluster_centers_"
      ]
    },
    {
      "cell_type": "markdown",
      "metadata": {
        "id": "eewFpI9IlDLD"
      },
      "source": [
        "Note that the `KMeans` instance preserves the labels of the instances it was trained on. Somewhat confusingly, in this context, the _label_ of an instance is the index of the cluster that instance gets assigned to:"
      ]
    },
    {
      "cell_type": "code",
      "execution_count": null,
      "metadata": {
        "id": "II5ty6PJlDLD"
      },
      "outputs": [],
      "source": [
        "kmeans.labels_"
      ]
    },
    {
      "cell_type": "markdown",
      "metadata": {
        "id": "8XO80DpOlDLD"
      },
      "source": [
        "Of course, we can predict the labels of new instances:"
      ]
    },
    {
      "cell_type": "code",
      "execution_count": null,
      "metadata": {
        "id": "Kf26h6kblDLD"
      },
      "outputs": [],
      "source": [
        "X_new = np.array([[0, 2], [3, 2], [-3, 3], [-3, 2.5]])\n",
        "kmeans.predict(X_new)"
      ]
    },
    {
      "cell_type": "markdown",
      "metadata": {
        "id": "2JPSq7CKlDLD"
      },
      "source": [
        "**Decision Boundaries**"
      ]
    },
    {
      "cell_type": "markdown",
      "metadata": {
        "id": "1Nfk-BKMlDLD"
      },
      "source": [
        "Let's plot the model's decision boundaries. This gives us a _Voronoi diagram_:"
      ]
    },
    {
      "cell_type": "code",
      "execution_count": null,
      "metadata": {
        "id": "lkSPrJg_lDLE"
      },
      "outputs": [],
      "source": [
        "def plot_data(X):\n",
        "    plt.plot(X[:, 0], X[:, 1], 'k.', markersize=2)\n",
        "\n",
        "def plot_centroids(centroids, weights=None, circle_color='w', cross_color='k'):\n",
        "    if weights is not None:\n",
        "        centroids = centroids[weights > weights.max() / 10]\n",
        "    plt.scatter(centroids[:, 0], centroids[:, 1],\n",
        "                marker='o', s=35, linewidths=8,\n",
        "                color=circle_color, zorder=10, alpha=0.9)\n",
        "    plt.scatter(centroids[:, 0], centroids[:, 1],\n",
        "                marker='x', s=2, linewidths=12,\n",
        "                color=cross_color, zorder=11, alpha=1)\n",
        "\n",
        "def plot_decision_boundaries(clusterer, X, resolution=1000, show_centroids=True,\n",
        "                             show_xlabels=True, show_ylabels=True):\n",
        "    mins = X.min(axis=0) - 0.1\n",
        "    maxs = X.max(axis=0) + 0.1\n",
        "    xx, yy = np.meshgrid(np.linspace(mins[0], maxs[0], resolution),\n",
        "                         np.linspace(mins[1], maxs[1], resolution))\n",
        "    Z = clusterer.predict(np.c_[xx.ravel(), yy.ravel()])\n",
        "    Z = Z.reshape(xx.shape)\n",
        "\n",
        "    plt.contourf(Z, extent=(mins[0], maxs[0], mins[1], maxs[1]),\n",
        "                cmap=\"Pastel2\")\n",
        "    plt.contour(Z, extent=(mins[0], maxs[0], mins[1], maxs[1]),\n",
        "                linewidths=1, colors='k')\n",
        "    plot_data(X)\n",
        "    if show_centroids:\n",
        "        plot_centroids(clusterer.cluster_centers_)\n",
        "\n",
        "    if show_xlabels:\n",
        "        plt.xlabel(\"$x_1$\", fontsize=14)\n",
        "    else:\n",
        "        plt.tick_params(labelbottom=False)\n",
        "    if show_ylabels:\n",
        "        plt.ylabel(\"$x_2$\", fontsize=14, rotation=0)\n",
        "    else:\n",
        "        plt.tick_params(labelleft=False)"
      ]
    },
    {
      "cell_type": "code",
      "execution_count": null,
      "metadata": {
        "id": "XKgFmHa6lDLE"
      },
      "outputs": [],
      "source": [
        "plt.figure(figsize=(8, 4))\n",
        "plot_decision_boundaries(kmeans, X)\n",
        "save_fig(\"voronoi_plot\")\n",
        "plt.show()"
      ]
    },
    {
      "cell_type": "markdown",
      "metadata": {
        "id": "17VEVcSClDLE"
      },
      "source": [
        "Not bad! Some of the instances near the edges were probably assigned to the wrong cluster, but overall it looks pretty good."
      ]
    },
    {
      "cell_type": "markdown",
      "metadata": {
        "id": "_37lYW2xlDLE"
      },
      "source": [
        "**Hard Clustering _vs_ Soft Clustering**"
      ]
    },
    {
      "cell_type": "markdown",
      "metadata": {
        "id": "Q6CmlRljlDLE"
      },
      "source": [
        "Rather than arbitrarily choosing the closest cluster for each instance, which is called _hard clustering_, it might be better measure the distance of each instance to all 5 centroids. This is what the `transform()` method does:"
      ]
    },
    {
      "cell_type": "code",
      "execution_count": null,
      "metadata": {
        "id": "S3gP7B2DlDLE"
      },
      "outputs": [],
      "source": [
        "kmeans.transform(X_new)"
      ]
    },
    {
      "cell_type": "markdown",
      "metadata": {
        "id": "UO3NfmF5lDLF"
      },
      "source": [
        "You can verify that this is indeed the Euclidian distance between each instance and each centroid:"
      ]
    },
    {
      "cell_type": "code",
      "execution_count": null,
      "metadata": {
        "id": "rAZY0rz_lDLF"
      },
      "outputs": [],
      "source": [
        "np.linalg.norm(np.tile(X_new, (1, k)).reshape(-1, k, 2) - kmeans.cluster_centers_, axis=2)"
      ]
    },
    {
      "cell_type": "markdown",
      "metadata": {
        "id": "EeQwlwZ-lDLF"
      },
      "source": [
        "### The K-Means Algorithm"
      ]
    },
    {
      "cell_type": "markdown",
      "metadata": {
        "id": "1mQVGhArlDLF"
      },
      "source": [
        "The K-Means algorithm is one of the fastest clustering algorithms, and also one of the simplest:\n",
        "* First initialize $k$ centroids randomly: $k$ distinct instances are chosen randomly from the dataset and the centroids are placed at their locations.\n",
        "* Repeat until convergence (i.e., until the centroids stop moving):\n",
        "    * Assign each instance to the closest centroid.\n",
        "    * Update the centroids to be the mean of the instances that are assigned to them."
      ]
    },
    {
      "cell_type": "markdown",
      "metadata": {
        "id": "0Z8wfvwwlDLF"
      },
      "source": [
        "The `KMeans` class applies an optimized algorithm by default. To get the original K-Means algorithm (for educational purposes only), you must set `init=\"random\"`, `n_init=1`and `algorithm=\"full\"`. These hyperparameters will be explained below."
      ]
    },
    {
      "cell_type": "markdown",
      "metadata": {
        "id": "zEy5hNg2lDLF"
      },
      "source": [
        "Let's run the K-Means algorithm for 1, 2 and 3 iterations, to see how the centroids move around:"
      ]
    },
    {
      "cell_type": "code",
      "execution_count": null,
      "metadata": {
        "id": "ZmCFL9yDlDLF"
      },
      "outputs": [],
      "source": [
        "kmeans_iter1 = KMeans(n_clusters=5, init=\"random\", n_init=1,\n",
        "                     algorithm=\"full\", max_iter=1, random_state=0)\n",
        "kmeans_iter2 = KMeans(n_clusters=5, init=\"random\", n_init=1,\n",
        "                     algorithm=\"full\", max_iter=2, random_state=0)\n",
        "kmeans_iter3 = KMeans(n_clusters=5, init=\"random\", n_init=1,\n",
        "                     algorithm=\"full\", max_iter=3, random_state=0)\n",
        "kmeans_iter1.fit(X)\n",
        "kmeans_iter2.fit(X)\n",
        "kmeans_iter3.fit(X)"
      ]
    },
    {
      "cell_type": "markdown",
      "metadata": {
        "id": "bZ0G4nLwlDLG"
      },
      "source": [
        "And let's plot this:"
      ]
    },
    {
      "cell_type": "code",
      "execution_count": null,
      "metadata": {
        "id": "6FUQCSr3lDLG"
      },
      "outputs": [],
      "source": [
        "plt.figure(figsize=(10, 8))\n",
        "\n",
        "plt.subplot(321)\n",
        "plot_data(X)\n",
        "plot_centroids(kmeans_iter1.cluster_centers_, circle_color='r', cross_color='w')\n",
        "plt.ylabel(\"$x_2$\", fontsize=14, rotation=0)\n",
        "plt.tick_params(labelbottom=False)\n",
        "plt.title(\"Update the centroids (initially randomly)\", fontsize=14)\n",
        "\n",
        "plt.subplot(322)\n",
        "plot_decision_boundaries(kmeans_iter1, X, show_xlabels=False, show_ylabels=False)\n",
        "plt.title(\"Label the instances\", fontsize=14)\n",
        "\n",
        "plt.subplot(323)\n",
        "plot_decision_boundaries(kmeans_iter1, X, show_centroids=False, show_xlabels=False)\n",
        "plot_centroids(kmeans_iter2.cluster_centers_)\n",
        "\n",
        "plt.subplot(324)\n",
        "plot_decision_boundaries(kmeans_iter2, X, show_xlabels=False, show_ylabels=False)\n",
        "\n",
        "plt.subplot(325)\n",
        "plot_decision_boundaries(kmeans_iter2, X, show_centroids=False)\n",
        "plot_centroids(kmeans_iter3.cluster_centers_)\n",
        "\n",
        "plt.subplot(326)\n",
        "plot_decision_boundaries(kmeans_iter3, X, show_ylabels=False)\n",
        "\n",
        "save_fig(\"kmeans_algorithm_plot\")\n",
        "plt.show()"
      ]
    },
    {
      "cell_type": "markdown",
      "metadata": {
        "id": "_FpnzMCBlDLG"
      },
      "source": [
        "**K-Means Variability**"
      ]
    },
    {
      "cell_type": "markdown",
      "metadata": {
        "id": "DGWUpBwvlDLG"
      },
      "source": [
        "In the original K-Means algorithm, the centroids are just initialized randomly, and the algorithm simply runs a single iteration to gradually improve the centroids, as we saw above.\n",
        "\n",
        "However, one major problem with this approach is that if you run K-Means multiple times (or with different random seeds), it can converge to very different solutions, as you can see below:"
      ]
    },
    {
      "cell_type": "code",
      "execution_count": null,
      "metadata": {
        "id": "p0hrmUHOlDLG"
      },
      "outputs": [],
      "source": [
        "def plot_clusterer_comparison(clusterer1, clusterer2, X, title1=None, title2=None):\n",
        "    clusterer1.fit(X)\n",
        "    clusterer2.fit(X)\n",
        "\n",
        "    plt.figure(figsize=(10, 3.2))\n",
        "\n",
        "    plt.subplot(121)\n",
        "    plot_decision_boundaries(clusterer1, X)\n",
        "    if title1:\n",
        "        plt.title(title1, fontsize=14)\n",
        "\n",
        "    plt.subplot(122)\n",
        "    plot_decision_boundaries(clusterer2, X, show_ylabels=False)\n",
        "    if title2:\n",
        "        plt.title(title2, fontsize=14)"
      ]
    },
    {
      "cell_type": "code",
      "execution_count": null,
      "metadata": {
        "id": "QhZLiXaKlDLH"
      },
      "outputs": [],
      "source": [
        "kmeans_rnd_init1 = KMeans(n_clusters=5, init=\"random\", n_init=1,\n",
        "                         algorithm=\"full\", random_state=2)\n",
        "kmeans_rnd_init2 = KMeans(n_clusters=5, init=\"random\", n_init=1,\n",
        "                         algorithm=\"full\", random_state=5)\n",
        "\n",
        "plot_clusterer_comparison(kmeans_rnd_init1, kmeans_rnd_init2, X,\n",
        "                          \"Solution 1\", \"Solution 2 (with a different random init)\")\n",
        "\n",
        "save_fig(\"kmeans_variability_plot\")\n",
        "plt.show()"
      ]
    },
    {
      "cell_type": "markdown",
      "metadata": {
        "id": "UihQhabklDLH"
      },
      "source": [
        "### Inertia"
      ]
    },
    {
      "cell_type": "markdown",
      "metadata": {
        "id": "eXHco32mlDLH"
      },
      "source": [
        "To select the best model, we will need a way to evaluate a K-Mean model's performance. Unfortunately, clustering is an unsupervised task, so we do not have the targets. But at least we can measure the distance between each instance and its centroid. This is the idea behind the _inertia_ metric:"
      ]
    },
    {
      "cell_type": "code",
      "execution_count": null,
      "metadata": {
        "id": "7eNG-Sc5lDLH"
      },
      "outputs": [],
      "source": [
        "kmeans.inertia_"
      ]
    },
    {
      "cell_type": "markdown",
      "metadata": {
        "id": "5F2kNz2TlDLH"
      },
      "source": [
        "As you can easily verify, inertia is the sum of the squared distances between each training instance and its closest centroid:"
      ]
    },
    {
      "cell_type": "code",
      "execution_count": null,
      "metadata": {
        "id": "FKhEBG4llDLH"
      },
      "outputs": [],
      "source": [
        "X_dist = kmeans.transform(X)\n",
        "np.sum(X_dist[np.arange(len(X_dist)), kmeans.labels_]**2)"
      ]
    },
    {
      "cell_type": "markdown",
      "metadata": {
        "id": "IYQdJxtKlDLH"
      },
      "source": [
        "The `score()` method returns the negative inertia. Why negative? Well, it is because a predictor's `score()` method must always respect the \"_greater is better_\" rule."
      ]
    },
    {
      "cell_type": "code",
      "execution_count": null,
      "metadata": {
        "id": "xjhDq_WmlDLI"
      },
      "outputs": [],
      "source": [
        "kmeans.score(X)"
      ]
    },
    {
      "cell_type": "markdown",
      "metadata": {
        "id": "WProoHovlDLI"
      },
      "source": [
        "### Multiple Initializations"
      ]
    },
    {
      "cell_type": "markdown",
      "metadata": {
        "id": "yTi-YR6NlDLI"
      },
      "source": [
        "So one approach to solve the variability issue is to simply run the K-Means algorithm multiple times with different random initializations, and select the solution that minimizes the inertia. For example, here are the inertias of the two \"bad\" models shown in the previous figure:"
      ]
    },
    {
      "cell_type": "code",
      "execution_count": null,
      "metadata": {
        "id": "tJdSZOfrlDLI"
      },
      "outputs": [],
      "source": [
        "kmeans_rnd_init1.inertia_"
      ]
    },
    {
      "cell_type": "code",
      "execution_count": null,
      "metadata": {
        "id": "oK_n3MDslDLI"
      },
      "outputs": [],
      "source": [
        "kmeans_rnd_init2.inertia_"
      ]
    },
    {
      "cell_type": "markdown",
      "metadata": {
        "id": "e7NK3ui5lDLI"
      },
      "source": [
        "As you can see, they have a higher inertia than the first \"good\" model we trained, which means they are probably worse."
      ]
    },
    {
      "cell_type": "markdown",
      "metadata": {
        "id": "Ax7KBU8RlDLI"
      },
      "source": [
        "When you set the `n_init` hyperparameter, Scikit-Learn runs the original algorithm `n_init` times, and selects the solution that minimizes the inertia. By default, Scikit-Learn sets `n_init=10`."
      ]
    },
    {
      "cell_type": "code",
      "execution_count": null,
      "metadata": {
        "id": "MXqJM6yjlDLJ"
      },
      "outputs": [],
      "source": [
        "kmeans_rnd_10_inits = KMeans(n_clusters=5, init=\"random\", n_init=10,\n",
        "                              algorithm=\"full\", random_state=2)\n",
        "kmeans_rnd_10_inits.fit(X)"
      ]
    },
    {
      "cell_type": "markdown",
      "metadata": {
        "id": "nDAGPbQglDLJ"
      },
      "source": [
        "As you can see, we end up with the initial model, which is certainly the optimal K-Means solution (at least in terms of inertia, and assuming $k=5$)."
      ]
    },
    {
      "cell_type": "code",
      "execution_count": null,
      "metadata": {
        "id": "D_xnfNjslDLJ"
      },
      "outputs": [],
      "source": [
        "plt.figure(figsize=(8, 4))\n",
        "plot_decision_boundaries(kmeans_rnd_10_inits, X)\n",
        "plt.show()"
      ]
    },
    {
      "cell_type": "markdown",
      "metadata": {
        "id": "5i0CSs3VlDLJ"
      },
      "source": [
        "### Centroid initialization methods"
      ]
    },
    {
      "cell_type": "markdown",
      "metadata": {
        "id": "UybVq5LwlDLJ"
      },
      "source": [
        "Instead of initializing the centroids entirely randomly, it is preferable to initialize them using the following algorithm, proposed in a [2006 paper](https://goo.gl/eNUPw6) by David Arthur and Sergei Vassilvitskii:\n",
        "* Take one centroid $c_1$, chosen uniformly at random from the dataset.\n",
        "* Take a new center $c_i$, choosing an instance $\\mathbf{x}_i$ with probability: $D(\\mathbf{x}_i)^2$ / $\\sum\\limits_{j=1}^{m}{D(\\mathbf{x}_j)}^2$ where $D(\\mathbf{x}_i)$ is the distance between the instance $\\mathbf{x}_i$ and the closest centroid that was already chosen. This probability distribution ensures that instances that are further away from already chosen centroids are much more likely be selected as centroids.\n",
        "* Repeat the previous step until all $k$ centroids have been chosen."
      ]
    },
    {
      "cell_type": "markdown",
      "metadata": {
        "id": "Aarr_DZPlDLJ"
      },
      "source": [
        "The rest of the K-Means++ algorithm is just regular K-Means. With this initialization, the K-Means algorithm is much less likely to converge to a suboptimal solution, so it is possible to reduce `n_init` considerably. Most of the time, this largely compensates for the additional complexity of the initialization process."
      ]
    },
    {
      "cell_type": "markdown",
      "metadata": {
        "id": "x_dpFhsAlDLJ"
      },
      "source": [
        "To set the initialization to K-Means++, simply set `init=\"k-means++\"` (this is actually the default):"
      ]
    },
    {
      "cell_type": "code",
      "execution_count": null,
      "metadata": {
        "id": "MaxrUzlmlDLJ"
      },
      "outputs": [],
      "source": [
        "KMeans()"
      ]
    },
    {
      "cell_type": "code",
      "execution_count": null,
      "metadata": {
        "id": "zyjTRJnxlDLK"
      },
      "outputs": [],
      "source": [
        "good_init = np.array([[-3, 3], [-3, 2], [-3, 1], [-1, 2], [0, 2]])\n",
        "kmeans = KMeans(n_clusters=5, init=good_init, n_init=1, random_state=42)\n",
        "kmeans.fit(X)\n",
        "kmeans.inertia_"
      ]
    },
    {
      "cell_type": "markdown",
      "metadata": {
        "id": "Ax323Dl_lDLK"
      },
      "source": [
        "### Accelerated K-Means"
      ]
    },
    {
      "cell_type": "markdown",
      "metadata": {
        "id": "shXAfU3ElDLK"
      },
      "source": [
        "The K-Means algorithm can be significantly accelerated by avoiding many unnecessary distance calculations: this is achieved by exploiting the triangle inequality (given three points A, B and C, the distance AC is always such that AC ≤ AB + BC) and by keeping track of lower and upper bounds for distances between instances and centroids (see this [2003 paper](https://www.aaai.org/Papers/ICML/2003/ICML03-022.pdf) by Charles Elkan for more details)."
      ]
    },
    {
      "cell_type": "markdown",
      "metadata": {
        "id": "4Y4EZ7WJlDLK"
      },
      "source": [
        "To use Elkan's variant of K-Means, just set `algorithm=\"elkan\"`. Note that it does not support sparse data, so by default, Scikit-Learn uses `\"elkan\"` for dense data, and `\"full\"` (the regular K-Means algorithm) for sparse data."
      ]
    },
    {
      "cell_type": "code",
      "execution_count": null,
      "metadata": {
        "id": "lj8ZBj4ElDLK"
      },
      "outputs": [],
      "source": [
        "%timeit -n 50 KMeans(algorithm=\"elkan\", random_state=42).fit(X)"
      ]
    },
    {
      "cell_type": "code",
      "execution_count": null,
      "metadata": {
        "scrolled": true,
        "id": "p-q9CaTnlDLK"
      },
      "outputs": [],
      "source": [
        "%timeit -n 50 KMeans(algorithm=\"full\", random_state=42).fit(X)"
      ]
    },
    {
      "cell_type": "markdown",
      "metadata": {
        "id": "T4M60UFolDLK"
      },
      "source": [
        "There's no big difference in this case, as the dataset is fairly small."
      ]
    },
    {
      "cell_type": "markdown",
      "metadata": {
        "id": "JcE5lJLflDLL"
      },
      "source": [
        "### Mini-Batch K-Means"
      ]
    },
    {
      "cell_type": "markdown",
      "metadata": {
        "id": "360VI-PllDLL"
      },
      "source": [
        "Scikit-Learn also implements a variant of the K-Means algorithm that supports mini-batches (see [this paper](http://www.eecs.tufts.edu/~dsculley/papers/fastkmeans.pdf)):"
      ]
    },
    {
      "cell_type": "code",
      "execution_count": null,
      "metadata": {
        "id": "qEcA29oElDLL"
      },
      "outputs": [],
      "source": [
        "from sklearn.cluster import MiniBatchKMeans"
      ]
    },
    {
      "cell_type": "code",
      "execution_count": null,
      "metadata": {
        "id": "nK35FHbXlDLL"
      },
      "outputs": [],
      "source": [
        "minibatch_kmeans = MiniBatchKMeans(n_clusters=5, random_state=42)\n",
        "minibatch_kmeans.fit(X)"
      ]
    },
    {
      "cell_type": "code",
      "execution_count": null,
      "metadata": {
        "id": "G9uFKQzRlDLL"
      },
      "outputs": [],
      "source": [
        "minibatch_kmeans.inertia_"
      ]
    },
    {
      "cell_type": "markdown",
      "metadata": {
        "id": "xCFBk6rVlDLL"
      },
      "source": [
        "If the dataset does not fit in memory, the simplest option is to use the `memmap` class, just like we did for incremental PCA in the previous chapter. First let's load MNIST:"
      ]
    },
    {
      "cell_type": "markdown",
      "metadata": {
        "id": "pI0Uwi9BlDLL"
      },
      "source": [
        "**Warning:** since Scikit-Learn 0.24, `fetch_openml()` returns a Pandas `DataFrame` by default. To avoid this and keep the same code as in the book, we use `as_frame=False`."
      ]
    },
    {
      "cell_type": "code",
      "execution_count": null,
      "metadata": {
        "id": "QAgXDK--lDLL"
      },
      "outputs": [],
      "source": [
        "import urllib.request\n",
        "from sklearn.datasets import fetch_openml\n",
        "\n",
        "mnist = fetch_openml('mnist_784', version=1, as_frame=False)\n",
        "mnist.target = mnist.target.astype(np.int64)"
      ]
    },
    {
      "cell_type": "code",
      "execution_count": null,
      "metadata": {
        "id": "rfOil1g7lDLM"
      },
      "outputs": [],
      "source": [
        "from sklearn.model_selection import train_test_split\n",
        "\n",
        "X_train, X_test, y_train, y_test = train_test_split(\n",
        "    mnist[\"data\"], mnist[\"target\"], random_state=42)"
      ]
    },
    {
      "cell_type": "markdown",
      "metadata": {
        "id": "7njcbU9-lDLM"
      },
      "source": [
        "Next, let's write it to a `memmap`:"
      ]
    },
    {
      "cell_type": "code",
      "execution_count": null,
      "metadata": {
        "id": "OJ8nGalGlDLM"
      },
      "outputs": [],
      "source": [
        "filename = \"my_mnist.data\"\n",
        "X_mm = np.memmap(filename, dtype='float32', mode='write', shape=X_train.shape)\n",
        "X_mm[:] = X_train"
      ]
    },
    {
      "cell_type": "code",
      "execution_count": null,
      "metadata": {
        "id": "WinlwG4clDLM"
      },
      "outputs": [],
      "source": [
        "minibatch_kmeans = MiniBatchKMeans(n_clusters=10, batch_size=10, random_state=42)\n",
        "minibatch_kmeans.fit(X_mm)"
      ]
    },
    {
      "cell_type": "markdown",
      "metadata": {
        "id": "hsLgjqO1lDLM"
      },
      "source": [
        "If your data is so large that you cannot use `memmap`, things get more complicated. Let's start by writing a function to load the next batch (in real life, you would load the data from disk):"
      ]
    },
    {
      "cell_type": "code",
      "execution_count": null,
      "metadata": {
        "id": "IbDfR0RAlDLM"
      },
      "outputs": [],
      "source": [
        "def load_next_batch(batch_size):\n",
        "    return X[np.random.choice(len(X), batch_size, replace=False)]"
      ]
    },
    {
      "cell_type": "markdown",
      "metadata": {
        "id": "iWzEOq-AlDLM"
      },
      "source": [
        "Now we can train the model by feeding it one batch at a time. We also need to implement multiple initializations and keep the model with the lowest inertia:"
      ]
    },
    {
      "cell_type": "code",
      "execution_count": null,
      "metadata": {
        "id": "TF7J2aJylDLN"
      },
      "outputs": [],
      "source": [
        "np.random.seed(42)"
      ]
    },
    {
      "cell_type": "code",
      "execution_count": null,
      "metadata": {
        "id": "-GvB291alDLN"
      },
      "outputs": [],
      "source": [
        "k = 5\n",
        "n_init = 10\n",
        "n_iterations = 100\n",
        "batch_size = 100\n",
        "init_size = 500  # more data for K-Means++ initialization\n",
        "evaluate_on_last_n_iters = 10\n",
        "\n",
        "best_kmeans = None\n",
        "\n",
        "for init in range(n_init):\n",
        "    minibatch_kmeans = MiniBatchKMeans(n_clusters=k, init_size=init_size)\n",
        "    X_init = load_next_batch(init_size)\n",
        "    minibatch_kmeans.partial_fit(X_init)\n",
        "\n",
        "    minibatch_kmeans.sum_inertia_ = 0\n",
        "    for iteration in range(n_iterations):\n",
        "        X_batch = load_next_batch(batch_size)\n",
        "        minibatch_kmeans.partial_fit(X_batch)\n",
        "        if iteration >= n_iterations - evaluate_on_last_n_iters:\n",
        "            minibatch_kmeans.sum_inertia_ += minibatch_kmeans.inertia_\n",
        "\n",
        "    if (best_kmeans is None or\n",
        "        minibatch_kmeans.sum_inertia_ < best_kmeans.sum_inertia_):\n",
        "        best_kmeans = minibatch_kmeans"
      ]
    },
    {
      "cell_type": "code",
      "execution_count": null,
      "metadata": {
        "id": "-XPO0ymxlDLN"
      },
      "outputs": [],
      "source": [
        "best_kmeans.score(X)"
      ]
    },
    {
      "cell_type": "markdown",
      "metadata": {
        "id": "mBadpmnMlDLN"
      },
      "source": [
        "Mini-batch K-Means is much faster than regular K-Means:"
      ]
    },
    {
      "cell_type": "code",
      "execution_count": null,
      "metadata": {
        "id": "qE_vBYgClDLN"
      },
      "outputs": [],
      "source": [
        "%timeit KMeans(n_clusters=5, random_state=42).fit(X)"
      ]
    },
    {
      "cell_type": "code",
      "execution_count": null,
      "metadata": {
        "id": "zbCwbHo4lDLN"
      },
      "outputs": [],
      "source": [
        "%timeit MiniBatchKMeans(n_clusters=5, random_state=42).fit(X)"
      ]
    },
    {
      "cell_type": "markdown",
      "metadata": {
        "id": "XKygsLoslDLN"
      },
      "source": [
        "That's *much* faster! However, its performance is often lower (higher inertia), and it keeps degrading as _k_ increases. Let's plot the inertia ratio and the training time ratio between Mini-batch K-Means and regular K-Means:"
      ]
    },
    {
      "cell_type": "code",
      "execution_count": null,
      "metadata": {
        "id": "GpxzFlTalDLO"
      },
      "outputs": [],
      "source": [
        "from timeit import timeit"
      ]
    },
    {
      "cell_type": "code",
      "execution_count": null,
      "metadata": {
        "id": "ZGmrxlellDLO"
      },
      "outputs": [],
      "source": [
        "times = np.empty((100, 2))\n",
        "inertias = np.empty((100, 2))\n",
        "for k in range(1, 101):\n",
        "    kmeans_ = KMeans(n_clusters=k, random_state=42)\n",
        "    minibatch_kmeans = MiniBatchKMeans(n_clusters=k, random_state=42)\n",
        "    print(\"\\r{}/{}\".format(k, 100), end=\"\")\n",
        "    times[k-1, 0] = timeit(\"kmeans_.fit(X)\", number=10, globals=globals())\n",
        "    times[k-1, 1]  = timeit(\"minibatch_kmeans.fit(X)\", number=10, globals=globals())\n",
        "    inertias[k-1, 0] = kmeans_.inertia_\n",
        "    inertias[k-1, 1] = minibatch_kmeans.inertia_"
      ]
    },
    {
      "cell_type": "code",
      "execution_count": null,
      "metadata": {
        "id": "28v5_pztlDLO"
      },
      "outputs": [],
      "source": [
        "plt.figure(figsize=(10,4))\n",
        "\n",
        "plt.subplot(121)\n",
        "plt.plot(range(1, 101), inertias[:, 0], \"r--\", label=\"K-Means\")\n",
        "plt.plot(range(1, 101), inertias[:, 1], \"b.-\", label=\"Mini-batch K-Means\")\n",
        "plt.xlabel(\"$k$\", fontsize=16)\n",
        "plt.title(\"Inertia\", fontsize=14)\n",
        "plt.legend(fontsize=14)\n",
        "plt.axis([1, 100, 0, 100])\n",
        "\n",
        "plt.subplot(122)\n",
        "plt.plot(range(1, 101), times[:, 0], \"r--\", label=\"K-Means\")\n",
        "plt.plot(range(1, 101), times[:, 1], \"b.-\", label=\"Mini-batch K-Means\")\n",
        "plt.xlabel(\"$k$\", fontsize=16)\n",
        "plt.title(\"Training time (seconds)\", fontsize=14)\n",
        "plt.axis([1, 100, 0, 6])\n",
        "\n",
        "save_fig(\"minibatch_kmeans_vs_kmeans\")\n",
        "plt.show()"
      ]
    },
    {
      "cell_type": "markdown",
      "metadata": {
        "id": "4DQ85iSwlDLO"
      },
      "source": [
        "### Finding the optimal number of clusters"
      ]
    },
    {
      "cell_type": "markdown",
      "metadata": {
        "id": "L7TWZ90HlDLO"
      },
      "source": [
        "What if the number of clusters was set to a lower or greater value than 5?"
      ]
    },
    {
      "cell_type": "code",
      "execution_count": null,
      "metadata": {
        "id": "ZF19Np2xlDLO"
      },
      "outputs": [],
      "source": [
        "kmeans_k3 = KMeans(n_clusters=3, random_state=42)\n",
        "kmeans_k8 = KMeans(n_clusters=8, random_state=42)\n",
        "\n",
        "plot_clusterer_comparison(kmeans_k3, kmeans_k8, X, \"$k=3$\", \"$k=8$\")\n",
        "save_fig(\"bad_n_clusters_plot\")\n",
        "plt.show()"
      ]
    },
    {
      "cell_type": "markdown",
      "metadata": {
        "id": "_G1K5Zb5lDLO"
      },
      "source": [
        "Ouch, these two models don't look great. What about their inertias?"
      ]
    },
    {
      "cell_type": "code",
      "execution_count": null,
      "metadata": {
        "id": "NjEEaUT0lDLP"
      },
      "outputs": [],
      "source": [
        "kmeans_k3.inertia_"
      ]
    },
    {
      "cell_type": "code",
      "execution_count": null,
      "metadata": {
        "id": "eA-wGIvvlDLP"
      },
      "outputs": [],
      "source": [
        "kmeans_k8.inertia_"
      ]
    },
    {
      "cell_type": "markdown",
      "metadata": {
        "id": "8dk9f9u3lDLP"
      },
      "source": [
        "No, we cannot simply take the value of $k$ that minimizes the inertia, since it keeps getting lower as we increase $k$. Indeed, the more clusters there are, the closer each instance will be to its closest centroid, and therefore the lower the inertia will be. However, we can plot the inertia as a function of $k$ and analyze the resulting curve:"
      ]
    },
    {
      "cell_type": "code",
      "execution_count": null,
      "metadata": {
        "id": "CmbFzqYhlDLP"
      },
      "outputs": [],
      "source": [
        "kmeans_per_k = [KMeans(n_clusters=k, random_state=42).fit(X)\n",
        "                for k in range(1, 10)]\n",
        "inertias = [model.inertia_ for model in kmeans_per_k]"
      ]
    },
    {
      "cell_type": "code",
      "execution_count": null,
      "metadata": {
        "id": "dgXj7XwYlDLS"
      },
      "outputs": [],
      "source": [
        "plt.figure(figsize=(8, 3.5))\n",
        "plt.plot(range(1, 10), inertias, \"bo-\")\n",
        "plt.xlabel(\"$k$\", fontsize=14)\n",
        "plt.ylabel(\"Inertia\", fontsize=14)\n",
        "plt.annotate('Elbow',\n",
        "             xy=(4, inertias[3]),\n",
        "             xytext=(0.55, 0.55),\n",
        "             textcoords='figure fraction',\n",
        "             fontsize=16,\n",
        "             arrowprops=dict(facecolor='black', shrink=0.1)\n",
        "            )\n",
        "plt.axis([1, 8.5, 0, 1300])\n",
        "save_fig(\"inertia_vs_k_plot\")\n",
        "plt.show()"
      ]
    },
    {
      "cell_type": "markdown",
      "metadata": {
        "id": "1GwPUp6ZlDLS"
      },
      "source": [
        "As you can see, there is an elbow at $k=4$, which means that less clusters than that would be bad, and more clusters would not help much and might cut clusters in half. So $k=4$ is a pretty good choice. Of course in this example it is not perfect since it means that the two blobs in the lower left will be considered as just a single cluster, but it's a pretty good clustering nonetheless."
      ]
    },
    {
      "cell_type": "code",
      "execution_count": null,
      "metadata": {
        "id": "JQK-hIgQlDLT"
      },
      "outputs": [],
      "source": [
        "plot_decision_boundaries(kmeans_per_k[4-1], X)\n",
        "plt.show()"
      ]
    },
    {
      "cell_type": "markdown",
      "metadata": {
        "id": "wvz5noExlDLT"
      },
      "source": [
        "Another approach is to look at the _silhouette score_, which is the mean _silhouette coefficient_ over all the instances. An instance's silhouette coefficient is equal to $(b - a)/\\max(a, b)$ where $a$ is the mean distance to the other instances in the same cluster (it is the _mean intra-cluster distance_), and $b$ is the _mean nearest-cluster distance_, that is the mean distance to the instances of the next closest cluster (defined as the one that minimizes $b$, excluding the instance's own cluster). The silhouette coefficient can vary between -1 and +1: a coefficient close to +1 means that the instance is well inside its own cluster and far from other clusters, while a coefficient close to 0 means that it is close to a cluster boundary, and finally a coefficient close to -1 means that the instance may have been assigned to the wrong cluster."
      ]
    },
    {
      "cell_type": "markdown",
      "metadata": {
        "id": "ocXuMhw3lDLT"
      },
      "source": [
        "Let's plot the silhouette score as a function of $k$:"
      ]
    },
    {
      "cell_type": "code",
      "execution_count": null,
      "metadata": {
        "id": "MyrNAdaplDLT"
      },
      "outputs": [],
      "source": [
        "from sklearn.metrics import silhouette_score"
      ]
    },
    {
      "cell_type": "code",
      "execution_count": null,
      "metadata": {
        "id": "JC1DLIVvlDLT"
      },
      "outputs": [],
      "source": [
        "silhouette_score(X, kmeans.labels_)"
      ]
    },
    {
      "cell_type": "code",
      "execution_count": null,
      "metadata": {
        "id": "nDJjFo2KlDLT"
      },
      "outputs": [],
      "source": [
        "silhouette_scores = [silhouette_score(X, model.labels_)\n",
        "                     for model in kmeans_per_k[1:]]"
      ]
    },
    {
      "cell_type": "code",
      "execution_count": null,
      "metadata": {
        "id": "21Ni8RH2lDLT"
      },
      "outputs": [],
      "source": [
        "plt.figure(figsize=(8, 3))\n",
        "plt.plot(range(2, 10), silhouette_scores, \"bo-\")\n",
        "plt.xlabel(\"$k$\", fontsize=14)\n",
        "plt.ylabel(\"Silhouette score\", fontsize=14)\n",
        "plt.axis([1.8, 8.5, 0.55, 0.7])\n",
        "save_fig(\"silhouette_score_vs_k_plot\")\n",
        "plt.show()"
      ]
    },
    {
      "cell_type": "markdown",
      "metadata": {
        "id": "MyONKI30lDLU"
      },
      "source": [
        "As you can see, this visualization is much richer than the previous one: in particular, although it confirms that $k=4$ is a very good choice, but it also underlines the fact that $k=5$ is quite good as well."
      ]
    },
    {
      "cell_type": "markdown",
      "metadata": {
        "id": "glrzRWLxlDLU"
      },
      "source": [
        "An even more informative visualization is given when you plot every instance's silhouette coefficient, sorted by the cluster they are assigned to and by the value of the coefficient. This is called a _silhouette diagram_:"
      ]
    },
    {
      "cell_type": "code",
      "execution_count": null,
      "metadata": {
        "id": "KITeWEIIlDLU"
      },
      "outputs": [],
      "source": [
        "from sklearn.metrics import silhouette_samples\n",
        "from matplotlib.ticker import FixedLocator, FixedFormatter\n",
        "\n",
        "plt.figure(figsize=(11, 9))\n",
        "\n",
        "for k in (3, 4, 5, 6):\n",
        "    plt.subplot(2, 2, k - 2)\n",
        "    \n",
        "    y_pred = kmeans_per_k[k - 1].labels_\n",
        "    silhouette_coefficients = silhouette_samples(X, y_pred)\n",
        "\n",
        "    padding = len(X) // 30\n",
        "    pos = padding\n",
        "    ticks = []\n",
        "    for i in range(k):\n",
        "        coeffs = silhouette_coefficients[y_pred == i]\n",
        "        coeffs.sort()\n",
        "\n",
        "        color = mpl.cm.Spectral(i / k)\n",
        "        plt.fill_betweenx(np.arange(pos, pos + len(coeffs)), 0, coeffs,\n",
        "                          facecolor=color, edgecolor=color, alpha=0.7)\n",
        "        ticks.append(pos + len(coeffs) // 2)\n",
        "        pos += len(coeffs) + padding\n",
        "\n",
        "    plt.gca().yaxis.set_major_locator(FixedLocator(ticks))\n",
        "    plt.gca().yaxis.set_major_formatter(FixedFormatter(range(k)))\n",
        "    if k in (3, 5):\n",
        "        plt.ylabel(\"Cluster\")\n",
        "    \n",
        "    if k in (5, 6):\n",
        "        plt.gca().set_xticks([-0.1, 0, 0.2, 0.4, 0.6, 0.8, 1])\n",
        "        plt.xlabel(\"Silhouette Coefficient\")\n",
        "    else:\n",
        "        plt.tick_params(labelbottom=False)\n",
        "\n",
        "    plt.axvline(x=silhouette_scores[k - 2], color=\"red\", linestyle=\"--\")\n",
        "    plt.title(\"$k={}$\".format(k), fontsize=16)\n",
        "\n",
        "save_fig(\"silhouette_analysis_plot\")\n",
        "plt.show()"
      ]
    },
    {
      "cell_type": "markdown",
      "metadata": {
        "id": "2sBBr1pqlDLU"
      },
      "source": [
        "As you can see, $k=5$ looks like the best option here, as all clusters are roughly the same size, and they all cross the dashed line, which represents the mean silhouette score."
      ]
    },
    {
      "cell_type": "markdown",
      "metadata": {
        "id": "mbIZPlVOlDLU"
      },
      "source": [
        "## Limits of K-Means"
      ]
    },
    {
      "cell_type": "code",
      "execution_count": null,
      "metadata": {
        "id": "p0JcvajLlDLU"
      },
      "outputs": [],
      "source": [
        "X1, y1 = make_blobs(n_samples=1000, centers=((4, -4), (0, 0)), random_state=42)\n",
        "X1 = X1.dot(np.array([[0.374, 0.95], [0.732, 0.598]]))\n",
        "X2, y2 = make_blobs(n_samples=250, centers=1, random_state=42)\n",
        "X2 = X2 + [6, -8]\n",
        "X = np.r_[X1, X2]\n",
        "y = np.r_[y1, y2]"
      ]
    },
    {
      "cell_type": "code",
      "execution_count": null,
      "metadata": {
        "id": "CWVxs9O7lDLU"
      },
      "outputs": [],
      "source": [
        "plot_clusters(X)"
      ]
    },
    {
      "cell_type": "code",
      "execution_count": null,
      "metadata": {
        "id": "gP5LKkXhlDLV"
      },
      "outputs": [],
      "source": [
        "kmeans_good = KMeans(n_clusters=3, init=np.array([[-1.5, 2.5], [0.5, 0], [4, 0]]), n_init=1, random_state=42)\n",
        "kmeans_bad = KMeans(n_clusters=3, random_state=42)\n",
        "kmeans_good.fit(X)\n",
        "kmeans_bad.fit(X)"
      ]
    },
    {
      "cell_type": "code",
      "execution_count": null,
      "metadata": {
        "id": "kNeNml-dlDLV"
      },
      "outputs": [],
      "source": [
        "plt.figure(figsize=(10, 3.2))\n",
        "\n",
        "plt.subplot(121)\n",
        "plot_decision_boundaries(kmeans_good, X)\n",
        "plt.title(\"Inertia = {:.1f}\".format(kmeans_good.inertia_), fontsize=14)\n",
        "\n",
        "plt.subplot(122)\n",
        "plot_decision_boundaries(kmeans_bad, X, show_ylabels=False)\n",
        "plt.title(\"Inertia = {:.1f}\".format(kmeans_bad.inertia_), fontsize=14)\n",
        "\n",
        "save_fig(\"bad_kmeans_plot\")\n",
        "plt.show()"
      ]
    },
    {
      "cell_type": "markdown",
      "metadata": {
        "id": "7Plp9t3SlDLV"
      },
      "source": [
        "## Using Clustering for Image Segmentation"
      ]
    },
    {
      "cell_type": "code",
      "execution_count": null,
      "metadata": {
        "id": "QxMrS5N9lDLV"
      },
      "outputs": [],
      "source": [
        "# Download the ladybug image\n",
        "images_path = os.path.join(PROJECT_ROOT_DIR, \"images\", \"unsupervised_learning\")\n",
        "os.makedirs(images_path, exist_ok=True)\n",
        "DOWNLOAD_ROOT = \"https://raw.githubusercontent.com/ageron/handson-ml2/master/\"\n",
        "filename = \"ladybug.png\"\n",
        "print(\"Downloading\", filename)\n",
        "url = DOWNLOAD_ROOT + \"images/unsupervised_learning/\" + filename\n",
        "urllib.request.urlretrieve(url, os.path.join(images_path, filename))"
      ]
    },
    {
      "cell_type": "code",
      "execution_count": null,
      "metadata": {
        "id": "zmAAxgwvlDLV"
      },
      "outputs": [],
      "source": [
        "from matplotlib.image import imread\n",
        "image = imread(os.path.join(images_path, filename))\n",
        "image.shape"
      ]
    },
    {
      "cell_type": "code",
      "execution_count": null,
      "metadata": {
        "id": "74g4VsbalDLV"
      },
      "outputs": [],
      "source": [
        "X = image.reshape(-1, 3)\n",
        "kmeans = KMeans(n_clusters=8, random_state=42).fit(X)\n",
        "segmented_img = kmeans.cluster_centers_[kmeans.labels_]\n",
        "segmented_img = segmented_img.reshape(image.shape)"
      ]
    },
    {
      "cell_type": "code",
      "execution_count": null,
      "metadata": {
        "id": "oGi8TR2elDLW"
      },
      "outputs": [],
      "source": [
        "segmented_imgs = []\n",
        "n_colors = (10, 8, 6, 4, 2)\n",
        "for n_clusters in n_colors:\n",
        "    kmeans = KMeans(n_clusters=n_clusters, random_state=42).fit(X)\n",
        "    segmented_img = kmeans.cluster_centers_[kmeans.labels_]\n",
        "    segmented_imgs.append(segmented_img.reshape(image.shape))"
      ]
    },
    {
      "cell_type": "code",
      "execution_count": null,
      "metadata": {
        "id": "OeKki_63lDLW"
      },
      "outputs": [],
      "source": [
        "plt.figure(figsize=(10,5))\n",
        "plt.subplots_adjust(wspace=0.05, hspace=0.1)\n",
        "\n",
        "plt.subplot(231)\n",
        "plt.imshow(image)\n",
        "plt.title(\"Original image\")\n",
        "plt.axis('off')\n",
        "\n",
        "for idx, n_clusters in enumerate(n_colors):\n",
        "    plt.subplot(232 + idx)\n",
        "    plt.imshow(segmented_imgs[idx])\n",
        "    plt.title(\"{} colors\".format(n_clusters))\n",
        "    plt.axis('off')\n",
        "\n",
        "save_fig('image_segmentation_diagram', tight_layout=False)\n",
        "plt.show()"
      ]
    },
    {
      "cell_type": "markdown",
      "metadata": {
        "id": "UXs2OX_slDLW"
      },
      "source": [
        "## Using Clustering for Preprocessing"
      ]
    },
    {
      "cell_type": "markdown",
      "metadata": {
        "id": "HaowRnzclDLW"
      },
      "source": [
        "Let's tackle the _digits dataset_ which is a simple MNIST-like dataset containing 1,797 grayscale 8×8 images representing digits 0 to 9."
      ]
    },
    {
      "cell_type": "code",
      "execution_count": null,
      "metadata": {
        "id": "OAz3t3PllDLW"
      },
      "outputs": [],
      "source": [
        "from sklearn.datasets import load_digits"
      ]
    },
    {
      "cell_type": "code",
      "execution_count": null,
      "metadata": {
        "id": "-LE7vbIdlDLW"
      },
      "outputs": [],
      "source": [
        "X_digits, y_digits = load_digits(return_X_y=True)"
      ]
    },
    {
      "cell_type": "markdown",
      "metadata": {
        "id": "EoNVIOxMlDLX"
      },
      "source": [
        "Let's split it into a training set and a test set:"
      ]
    },
    {
      "cell_type": "code",
      "execution_count": null,
      "metadata": {
        "id": "8YHa75yulDLX"
      },
      "outputs": [],
      "source": [
        "from sklearn.model_selection import train_test_split"
      ]
    },
    {
      "cell_type": "code",
      "execution_count": null,
      "metadata": {
        "id": "bBG_pMf6lDLX"
      },
      "outputs": [],
      "source": [
        "X_train, X_test, y_train, y_test = train_test_split(X_digits, y_digits, random_state=42)"
      ]
    },
    {
      "cell_type": "markdown",
      "metadata": {
        "id": "xXhBVvjolDLX"
      },
      "source": [
        "Now let's fit a Logistic Regression model and evaluate it on the test set:"
      ]
    },
    {
      "cell_type": "code",
      "execution_count": null,
      "metadata": {
        "id": "pEtiWPgslDLX"
      },
      "outputs": [],
      "source": [
        "from sklearn.linear_model import LogisticRegression"
      ]
    },
    {
      "cell_type": "code",
      "execution_count": null,
      "metadata": {
        "id": "ramOX4yilDLY"
      },
      "outputs": [],
      "source": [
        "log_reg = LogisticRegression(multi_class=\"ovr\", solver=\"lbfgs\", max_iter=5000, random_state=42)\n",
        "log_reg.fit(X_train, y_train)"
      ]
    },
    {
      "cell_type": "code",
      "execution_count": null,
      "metadata": {
        "id": "lEpJX6wIlDLY"
      },
      "outputs": [],
      "source": [
        "log_reg_score = log_reg.score(X_test, y_test)\n",
        "log_reg_score"
      ]
    },
    {
      "cell_type": "markdown",
      "metadata": {
        "id": "yhTofeAflDLY"
      },
      "source": [
        "Okay, that's our baseline: 96.89% accuracy. Let's see if we can do better by using K-Means as a preprocessing step. We will create a pipeline that will first cluster the training set into 50 clusters and replace the images with their distances to the 50 clusters, then apply a logistic regression model:"
      ]
    },
    {
      "cell_type": "code",
      "execution_count": null,
      "metadata": {
        "id": "dUmAJmdFlDLY"
      },
      "outputs": [],
      "source": [
        "from sklearn.pipeline import Pipeline"
      ]
    },
    {
      "cell_type": "code",
      "execution_count": null,
      "metadata": {
        "id": "f12rs_YUlDLY"
      },
      "outputs": [],
      "source": [
        "pipeline = Pipeline([\n",
        "    (\"kmeans\", KMeans(n_clusters=50, random_state=42)),\n",
        "    (\"log_reg\", LogisticRegression(multi_class=\"ovr\", solver=\"lbfgs\", max_iter=5000, random_state=42)),\n",
        "])\n",
        "pipeline.fit(X_train, y_train)"
      ]
    },
    {
      "cell_type": "code",
      "execution_count": null,
      "metadata": {
        "id": "xwiA4emGlDLY"
      },
      "outputs": [],
      "source": [
        "pipeline_score = pipeline.score(X_test, y_test)\n",
        "pipeline_score"
      ]
    },
    {
      "cell_type": "markdown",
      "metadata": {
        "id": "ONqNjgg2lDLZ"
      },
      "source": [
        "How much did the error rate drop?"
      ]
    },
    {
      "cell_type": "code",
      "execution_count": null,
      "metadata": {
        "id": "-LdkTrXllDLZ"
      },
      "outputs": [],
      "source": [
        "1 - (1 - pipeline_score) / (1 - log_reg_score)"
      ]
    },
    {
      "cell_type": "markdown",
      "metadata": {
        "id": "ACJuTv_8lDLZ"
      },
      "source": [
        "How about that? We reduced the error rate by over 35%! But we chose the number of clusters $k$ completely arbitrarily, we can surely do better. Since K-Means is just a preprocessing step in a classification pipeline, finding a good value for $k$ is much simpler than earlier: there's no need to perform silhouette analysis or minimize the inertia, the best value of $k$ is simply the one that results in the best classification performance."
      ]
    },
    {
      "cell_type": "code",
      "execution_count": null,
      "metadata": {
        "id": "7kkslp_RlDLZ"
      },
      "outputs": [],
      "source": [
        "from sklearn.model_selection import GridSearchCV"
      ]
    },
    {
      "cell_type": "markdown",
      "metadata": {
        "id": "CyQYOMqSlDLZ"
      },
      "source": [
        "**Warning**: the following cell may take close to 20 minutes to run, or more depending on your hardware."
      ]
    },
    {
      "cell_type": "code",
      "execution_count": null,
      "metadata": {
        "id": "f4gX1wTVlDLZ"
      },
      "outputs": [],
      "source": [
        "param_grid = dict(kmeans__n_clusters=range(2, 100))\n",
        "grid_clf = GridSearchCV(pipeline, param_grid, cv=3, verbose=2)\n",
        "grid_clf.fit(X_train, y_train)"
      ]
    },
    {
      "cell_type": "markdown",
      "metadata": {
        "id": "mmlCT9HMlDLa"
      },
      "source": [
        "Let's see what the best number of clusters is:"
      ]
    },
    {
      "cell_type": "code",
      "execution_count": null,
      "metadata": {
        "id": "H2CgZcsolDLa"
      },
      "outputs": [],
      "source": [
        "grid_clf.best_params_"
      ]
    },
    {
      "cell_type": "code",
      "execution_count": null,
      "metadata": {
        "id": "yibyuFR6lDLa"
      },
      "outputs": [],
      "source": [
        "grid_clf.score(X_test, y_test)"
      ]
    },
    {
      "cell_type": "markdown",
      "metadata": {
        "id": "4eh5jXbulDLa"
      },
      "source": [
        "## Using Clustering for Semi-Supervised Learning"
      ]
    },
    {
      "cell_type": "markdown",
      "metadata": {
        "id": "10Ttl3UClDLa"
      },
      "source": [
        "Another use case for clustering is in semi-supervised learning, when we have plenty of unlabeled instances and very few labeled instances."
      ]
    },
    {
      "cell_type": "markdown",
      "metadata": {
        "id": "d9Nt-ONClDLa"
      },
      "source": [
        "Let's look at the performance of a logistic regression model when we only have 50 labeled instances:"
      ]
    },
    {
      "cell_type": "code",
      "source": [
        "X_train, X_test, y_train, y_test = train_test_split(X_digits, y_digits, random_state=42)"
      ],
      "metadata": {
        "id": "-Cjc4ry-9Ks3"
      },
      "execution_count": null,
      "outputs": []
    },
    {
      "cell_type": "code",
      "execution_count": null,
      "metadata": {
        "id": "JDPvjslblDLa"
      },
      "outputs": [],
      "source": [
        "n_labeled = 50"
      ]
    },
    {
      "cell_type": "code",
      "execution_count": null,
      "metadata": {
        "id": "AeEL4GXQlDLb"
      },
      "outputs": [],
      "source": [
        "log_reg = LogisticRegression(multi_class=\"ovr\", solver=\"lbfgs\", random_state=42)\n",
        "log_reg.fit(X_train[:n_labeled], y_train[:n_labeled])\n",
        "log_reg.score(X_test, y_test)"
      ]
    },
    {
      "cell_type": "markdown",
      "metadata": {
        "id": "97iaesB5lDLb"
      },
      "source": [
        "It's much less than earlier of course. Let's see how we can do better. First, let's cluster the training set into 50 clusters, then for each cluster let's find the image closest to the centroid. We will call these images the representative images:"
      ]
    },
    {
      "cell_type": "code",
      "execution_count": null,
      "metadata": {
        "id": "RzEOvi78lDLb"
      },
      "outputs": [],
      "source": [
        "k = 50"
      ]
    },
    {
      "cell_type": "code",
      "execution_count": null,
      "metadata": {
        "id": "lf1YcyoglDLb"
      },
      "outputs": [],
      "source": [
        "kmeans = KMeans(n_clusters=k, random_state=42)\n",
        "X_digits_dist = kmeans.fit_transform(X_train)\n",
        "representative_digit_idx = np.argmin(X_digits_dist, axis=0)\n",
        "X_representative_digits = X_train[representative_digit_idx]"
      ]
    },
    {
      "cell_type": "markdown",
      "metadata": {
        "id": "WxSst3nulDLb"
      },
      "source": [
        "Now let's plot these representative images and label them manually:"
      ]
    },
    {
      "cell_type": "code",
      "execution_count": null,
      "metadata": {
        "id": "XqbTEvaYlDLb"
      },
      "outputs": [],
      "source": [
        "plt.figure(figsize=(8, 2))\n",
        "for index, X_representative_digit in enumerate(X_representative_digits):\n",
        "    plt.subplot(k // 10, 10, index + 1)\n",
        "    plt.imshow(X_representative_digit.reshape(8, 8), cmap=\"binary\", interpolation=\"bilinear\")\n",
        "    plt.axis('off')\n",
        "\n",
        "save_fig(\"representative_images_diagram\", tight_layout=False)\n",
        "plt.show()"
      ]
    },
    {
      "cell_type": "code",
      "execution_count": null,
      "metadata": {
        "id": "zMKpFv8_lDLb"
      },
      "outputs": [],
      "source": [
        "y_train[representative_digit_idx]"
      ]
    },
    {
      "cell_type": "markdown",
      "metadata": {
        "id": "m3I20VXIlDLc"
      },
      "source": [
        "Now we have a dataset with just 50 labeled instances, but instead of being completely random instances, each of them is a representative image of its cluster. Let's see if the performance is any better:"
      ]
    },
    {
      "cell_type": "code",
      "source": [
        "# set up the y_representative_digits labels (usually, you do that manually by \"experts\")\n",
        "y_representative_digits = np.ravel(y_train[representative_digit_idx])"
      ],
      "metadata": {
        "id": "-I2xslNL98vY"
      },
      "execution_count": null,
      "outputs": []
    },
    {
      "cell_type": "code",
      "execution_count": null,
      "metadata": {
        "id": "O3UpG1wylDLc"
      },
      "outputs": [],
      "source": [
        "log_reg = LogisticRegression(multi_class=\"ovr\", solver=\"lbfgs\", max_iter=5000, random_state=42)\n",
        "log_reg.fit(X_representative_digits, y_representative_digits)\n",
        "log_reg.score(X_test, y_test)"
      ]
    },
    {
      "cell_type": "markdown",
      "metadata": {
        "id": "wLh1hDhAlDLc"
      },
      "source": [
        "Wow! We jumped from 83.3% accuracy to 91.3%, although we are still only training the model on 50 instances. Since it's often costly and painful to label instances, especially when it has to be done manually by experts, it's a good idea to make them label representative instances rather than just random instances."
      ]
    },
    {
      "cell_type": "markdown",
      "metadata": {
        "id": "JWlCvF_-lDLc"
      },
      "source": [
        "But perhaps we can go one step further: what if we propagated the labels to all the other instances in the same cluster?"
      ]
    },
    {
      "cell_type": "code",
      "execution_count": null,
      "metadata": {
        "id": "aM1Rj1RflDLd"
      },
      "outputs": [],
      "source": [
        "y_train_propagated = np.empty(len(X_train), dtype=np.int32)\n",
        "for i in range(k):\n",
        "    y_train_propagated[kmeans.labels_==i] = y_representative_digits[i]"
      ]
    },
    {
      "cell_type": "code",
      "execution_count": null,
      "metadata": {
        "id": "RVMqNvH7lDLd"
      },
      "outputs": [],
      "source": [
        "log_reg = LogisticRegression(multi_class=\"ovr\", solver=\"lbfgs\", max_iter=5000, random_state=42)\n",
        "log_reg.fit(X_train, y_train_propagated)"
      ]
    },
    {
      "cell_type": "code",
      "execution_count": null,
      "metadata": {
        "id": "Ha1VjWvhlDLd"
      },
      "outputs": [],
      "source": [
        "log_reg.score(X_test, y_test)"
      ]
    },
    {
      "cell_type": "markdown",
      "metadata": {
        "id": "H6ceWrm_lDLd"
      },
      "source": [
        "We got a tiny little accuracy boost. Better than nothing, but we should probably have propagated the labels only to the instances closest to the centroid, because by propagating to the full cluster, we have certainly included some outliers. Let's only propagate the labels to the 75th percentile closest to the centroid:"
      ]
    },
    {
      "cell_type": "code",
      "execution_count": null,
      "metadata": {
        "id": "qC2xAI3ylDLd"
      },
      "outputs": [],
      "source": [
        "percentile_closest = 75\n",
        "\n",
        "X_cluster_dist = X_digits_dist[np.arange(len(X_train)), kmeans.labels_]\n",
        "for i in range(k):\n",
        "    in_cluster = (kmeans.labels_ == i)\n",
        "    cluster_dist = X_cluster_dist[in_cluster]\n",
        "    cutoff_distance = np.percentile(cluster_dist, percentile_closest)\n",
        "    above_cutoff = (X_cluster_dist > cutoff_distance)\n",
        "    X_cluster_dist[in_cluster & above_cutoff] = -1"
      ]
    },
    {
      "cell_type": "code",
      "execution_count": null,
      "metadata": {
        "id": "pgYsYGWelDLd"
      },
      "outputs": [],
      "source": [
        "partially_propagated = (X_cluster_dist != -1)\n",
        "X_train_partially_propagated = X_train[partially_propagated]\n",
        "y_train_partially_propagated = y_train_propagated[partially_propagated]"
      ]
    },
    {
      "cell_type": "code",
      "execution_count": null,
      "metadata": {
        "id": "okFJXGcBlDLe"
      },
      "outputs": [],
      "source": [
        "log_reg = LogisticRegression(multi_class=\"ovr\", solver=\"lbfgs\", max_iter=5000, random_state=42)\n",
        "log_reg.fit(X_train_partially_propagated, y_train_partially_propagated)"
      ]
    },
    {
      "cell_type": "code",
      "execution_count": null,
      "metadata": {
        "id": "Pew3G22ilDLe"
      },
      "outputs": [],
      "source": [
        "log_reg.score(X_test, y_test)"
      ]
    },
    {
      "cell_type": "markdown",
      "metadata": {
        "id": "uVjtnf7IlDLe"
      },
      "source": [
        "A bit better. With just 50 labeled instances (just 5 examples per class on average!), we got 92.7% performance, which is getting closer to the performance of logistic regression on the fully labeled _digits_ dataset (which was 96.9%)."
      ]
    },
    {
      "cell_type": "markdown",
      "metadata": {
        "id": "ZJMMycBrlDLe"
      },
      "source": [
        "This is because the propagated labels are actually pretty good: their accuracy is close to 96%:"
      ]
    },
    {
      "cell_type": "code",
      "execution_count": null,
      "metadata": {
        "id": "HeVALPNflDLe"
      },
      "outputs": [],
      "source": [
        "np.mean(y_train_partially_propagated == y_train[partially_propagated])"
      ]
    },
    {
      "cell_type": "markdown",
      "metadata": {
        "id": "17JxFxh_lDLe"
      },
      "source": [
        "You could now do a few iterations of *active learning*:\n",
        "1. Manually label the instances that the classifier is least sure about, if possible by picking them in distinct clusters.\n",
        "2. Train a new model with these additional labels."
      ]
    },
    {
      "cell_type": "markdown",
      "metadata": {
        "id": "ujesVqgFlDLe"
      },
      "source": [
        "## DBSCAN"
      ]
    },
    {
      "cell_type": "code",
      "execution_count": null,
      "metadata": {
        "id": "Rzf90DY8lDLf"
      },
      "outputs": [],
      "source": [
        "from sklearn.datasets import make_moons"
      ]
    },
    {
      "cell_type": "code",
      "execution_count": null,
      "metadata": {
        "id": "slVTPV75lDLf"
      },
      "outputs": [],
      "source": [
        "X, y = make_moons(n_samples=1000, noise=0.05, random_state=42)"
      ]
    },
    {
      "cell_type": "code",
      "execution_count": null,
      "metadata": {
        "id": "X0Wc510klDLf"
      },
      "outputs": [],
      "source": [
        "from sklearn.cluster import DBSCAN"
      ]
    },
    {
      "cell_type": "code",
      "execution_count": null,
      "metadata": {
        "id": "tDsuCxXOlDLf"
      },
      "outputs": [],
      "source": [
        "dbscan = DBSCAN(eps=0.05, min_samples=5)\n",
        "dbscan.fit(X)"
      ]
    },
    {
      "cell_type": "code",
      "execution_count": null,
      "metadata": {
        "id": "Va5VnFx9lDLf"
      },
      "outputs": [],
      "source": [
        "dbscan.labels_[:10]"
      ]
    },
    {
      "cell_type": "code",
      "execution_count": null,
      "metadata": {
        "id": "FqI7JJtrlDLf"
      },
      "outputs": [],
      "source": [
        "len(dbscan.core_sample_indices_)"
      ]
    },
    {
      "cell_type": "code",
      "execution_count": null,
      "metadata": {
        "id": "Lh_jhsdqlDLf"
      },
      "outputs": [],
      "source": [
        "dbscan.core_sample_indices_[:10]"
      ]
    },
    {
      "cell_type": "code",
      "execution_count": null,
      "metadata": {
        "id": "sfAQZUDqlDLg"
      },
      "outputs": [],
      "source": [
        "dbscan.components_[:3]"
      ]
    },
    {
      "cell_type": "code",
      "execution_count": null,
      "metadata": {
        "id": "3c59FC8-lDLg"
      },
      "outputs": [],
      "source": [
        "np.unique(dbscan.labels_)"
      ]
    },
    {
      "cell_type": "code",
      "execution_count": null,
      "metadata": {
        "id": "2xuunESXlDLg"
      },
      "outputs": [],
      "source": [
        "dbscan2 = DBSCAN(eps=0.2)\n",
        "dbscan2.fit(X)"
      ]
    },
    {
      "cell_type": "code",
      "execution_count": null,
      "metadata": {
        "id": "KODJG9P3lDLg"
      },
      "outputs": [],
      "source": [
        "def plot_dbscan(dbscan, X, size, show_xlabels=True, show_ylabels=True):\n",
        "    core_mask = np.zeros_like(dbscan.labels_, dtype=bool)\n",
        "    core_mask[dbscan.core_sample_indices_] = True\n",
        "    anomalies_mask = dbscan.labels_ == -1\n",
        "    non_core_mask = ~(core_mask | anomalies_mask)\n",
        "\n",
        "    cores = dbscan.components_\n",
        "    anomalies = X[anomalies_mask]\n",
        "    non_cores = X[non_core_mask]\n",
        "    \n",
        "    plt.scatter(cores[:, 0], cores[:, 1],\n",
        "                c=dbscan.labels_[core_mask], marker='o', s=size, cmap=\"Paired\")\n",
        "    plt.scatter(cores[:, 0], cores[:, 1], marker='*', s=20, c=dbscan.labels_[core_mask])\n",
        "    plt.scatter(anomalies[:, 0], anomalies[:, 1],\n",
        "                c=\"r\", marker=\"x\", s=100)\n",
        "    plt.scatter(non_cores[:, 0], non_cores[:, 1], c=dbscan.labels_[non_core_mask], marker=\".\")\n",
        "    if show_xlabels:\n",
        "        plt.xlabel(\"$x_1$\", fontsize=14)\n",
        "    else:\n",
        "        plt.tick_params(labelbottom=False)\n",
        "    if show_ylabels:\n",
        "        plt.ylabel(\"$x_2$\", fontsize=14, rotation=0)\n",
        "    else:\n",
        "        plt.tick_params(labelleft=False)\n",
        "    plt.title(\"eps={:.2f}, min_samples={}\".format(dbscan.eps, dbscan.min_samples), fontsize=14)"
      ]
    },
    {
      "cell_type": "code",
      "execution_count": null,
      "metadata": {
        "id": "493g4C-8lDLg"
      },
      "outputs": [],
      "source": [
        "plt.figure(figsize=(9, 3.2))\n",
        "\n",
        "plt.subplot(121)\n",
        "plot_dbscan(dbscan, X, size=100)\n",
        "\n",
        "plt.subplot(122)\n",
        "plot_dbscan(dbscan2, X, size=600, show_ylabels=False)\n",
        "\n",
        "save_fig(\"dbscan_plot\")\n",
        "plt.show()\n"
      ]
    },
    {
      "cell_type": "code",
      "execution_count": null,
      "metadata": {
        "id": "25VqOfaclDLg"
      },
      "outputs": [],
      "source": [
        "dbscan = dbscan2"
      ]
    },
    {
      "cell_type": "code",
      "execution_count": null,
      "metadata": {
        "id": "-8_JLjLulDLh"
      },
      "outputs": [],
      "source": [
        "from sklearn.neighbors import KNeighborsClassifier"
      ]
    },
    {
      "cell_type": "code",
      "execution_count": null,
      "metadata": {
        "id": "1SoH7GGklDLh"
      },
      "outputs": [],
      "source": [
        "knn = KNeighborsClassifier(n_neighbors=50)\n",
        "knn.fit(dbscan.components_, dbscan.labels_[dbscan.core_sample_indices_])"
      ]
    },
    {
      "cell_type": "code",
      "execution_count": null,
      "metadata": {
        "id": "CWAH9M_RlDLh"
      },
      "outputs": [],
      "source": [
        "X_new = np.array([[-0.5, 0], [0, 0.5], [1, -0.1], [2, 1]])\n",
        "knn.predict(X_new)"
      ]
    },
    {
      "cell_type": "code",
      "execution_count": null,
      "metadata": {
        "id": "vHX6NJbXlDLh"
      },
      "outputs": [],
      "source": [
        "knn.predict_proba(X_new)"
      ]
    },
    {
      "cell_type": "code",
      "execution_count": null,
      "metadata": {
        "id": "cxRG3073lDLh"
      },
      "outputs": [],
      "source": [
        "plt.figure(figsize=(6, 3))\n",
        "plot_decision_boundaries(knn, X, show_centroids=False)\n",
        "plt.scatter(X_new[:, 0], X_new[:, 1], c=\"b\", marker=\"+\", s=200, zorder=10)\n",
        "save_fig(\"cluster_classification_plot\")\n",
        "plt.show()"
      ]
    },
    {
      "cell_type": "code",
      "execution_count": null,
      "metadata": {
        "id": "2NkdVyLQlDLh"
      },
      "outputs": [],
      "source": [
        "y_dist, y_pred_idx = knn.kneighbors(X_new, n_neighbors=1)\n",
        "y_pred = dbscan.labels_[dbscan.core_sample_indices_][y_pred_idx]\n",
        "y_pred[y_dist > 0.2] = -1\n",
        "y_pred.ravel()"
      ]
    }
  ],
  "metadata": {
    "kernelspec": {
      "display_name": "Python 3",
      "language": "python",
      "name": "python3"
    },
    "language_info": {
      "codemirror_mode": {
        "name": "ipython",
        "version": 3
      },
      "file_extension": ".py",
      "mimetype": "text/x-python",
      "name": "python",
      "nbconvert_exporter": "python",
      "pygments_lexer": "ipython3",
      "version": "3.7.10"
    },
    "colab": {
      "name": "Topic 7 - Unsupervised Learning.ipynb",
      "private_outputs": true,
      "provenance": [],
      "collapsed_sections": [
        "CUKCXTWulDK_",
        "EeQwlwZ-lDLF",
        "UihQhabklDLH",
        "WProoHovlDLI",
        "5i0CSs3VlDLJ",
        "Ax323Dl_lDLK",
        "JcE5lJLflDLL",
        "4DQ85iSwlDLO",
        "mbIZPlVOlDLU",
        "7Plp9t3SlDLV",
        "UXs2OX_slDLW",
        "4eh5jXbulDLa",
        "ujesVqgFlDLe"
      ],
      "include_colab_link": true
    }
  },
  "nbformat": 4,
  "nbformat_minor": 0
}