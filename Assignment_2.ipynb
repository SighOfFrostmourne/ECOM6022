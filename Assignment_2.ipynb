{
  "nbformat": 4,
  "nbformat_minor": 0,
  "metadata": {
    "colab": {
      "name": "Assignment_2.ipynb",
      "provenance": [],
      "collapsed_sections": [],
      "mount_file_id": "1CMRYHyxyLteeGFZ90iwEZja4cW8vLg-P",
      "authorship_tag": "ABX9TyMNjJijWQfw62bp/GW/8oqf",
      "include_colab_link": true
    },
    "kernelspec": {
      "name": "python3",
      "display_name": "Python 3"
    },
    "language_info": {
      "name": "python"
    }
  },
  "cells": [
    {
      "cell_type": "markdown",
      "metadata": {
        "id": "view-in-github",
        "colab_type": "text"
      },
      "source": [
        "<a href=\"https://colab.research.google.com/github/SighOfFrostmourne/ECOM6022/blob/main/Assignment_2.ipynb\" target=\"_parent\"><img src=\"https://colab.research.google.com/assets/colab-badge.svg\" alt=\"Open In Colab\"/></a>"
      ]
    },
    {
      "cell_type": "code",
      "source": [
        "# Python ≥3.5 and Scikit-Learn ≥0.20 are required\n",
        "import sys\n",
        "import sklearn\n",
        "import numpy as np\n",
        "import os\n",
        "\n",
        "# To plot pretty figures (for report etc)\n",
        "%matplotlib inline\n",
        "import matplotlib as mpl\n",
        "import matplotlib.pyplot as plt\n",
        "mpl.rc('axes', labelsize=14)\n",
        "mpl.rc('xtick', labelsize=12)\n",
        "mpl.rc('ytick', labelsize=12)\n",
        "\n",
        "# Where to save the figures\n",
        "ROOT_PATH = \"/content/drive/MyDrive/ECOM6022/Assignment_2\"\n",
        "os.chdir(ROOT_PATH)\n",
        "PROJECT_ROOT_DIR = \".\"\n",
        "CHAPTER_ID = \"Assignment_2\"\n",
        "DATA_PATH = os.path.join(ROOT_PATH, \"datasets\")\n",
        "IMAGES_PATH = os.path.join(PROJECT_ROOT_DIR, \"images\", CHAPTER_ID)\n",
        "os.makedirs(IMAGES_PATH, exist_ok=True)\n",
        "\n",
        "def save_fig(fig_id, tight_layout=True, fig_extension=\"png\", resolution=300):\n",
        "    path = os.path.join(IMAGES_PATH, fig_id + \".\" + fig_extension)\n",
        "    print(\"Saving figure\", fig_id)\n",
        "    if tight_layout:\n",
        "        plt.tight_layout()\n",
        "    plt.savefig(path, format=fig_extension, dpi=resolution)"
      ],
      "metadata": {
        "id": "zlpWKHfBuQE_"
      },
      "execution_count": 70,
      "outputs": []
    },
    {
      "cell_type": "markdown",
      "source": [
        "##Read the downloaed file from Google Drive\n",
        "\n",
        "As moodle requires authorization to download the file, download link url doesn't work properly from the original coding introduced in Lecture. Thus download it and use directly."
      ],
      "metadata": {
        "id": "cbifXMM6vWxn"
      }
    },
    {
      "cell_type": "code",
      "source": [
        "import pandas as pd\n",
        "\n",
        "def load_data(data_path=DATA_PATH):\n",
        "    train_csv_path = os.path.join(data_path, \"mortgage_loan_train.csv\")\n",
        "    test_csv_path = os.path.join(data_path, \"mortgage_loan_test.csv\")\n",
        "    return pd.read_csv(train_csv_path), pd.read_csv(test_csv_path)\n",
        "\n",
        "train_data, test_data = load_data() "
      ],
      "metadata": {
        "id": "thG9u19svYPT"
      },
      "execution_count": 71,
      "outputs": []
    },
    {
      "cell_type": "markdown",
      "source": [
        "## Take a Quick Look at the Data Structure"
      ],
      "metadata": {
        "id": "dMEtgIMJ8BHe"
      }
    },
    {
      "cell_type": "code",
      "source": [
        "train_data.head()"
      ],
      "metadata": {
        "id": "sNsIojmHxUcF"
      },
      "execution_count": null,
      "outputs": []
    },
    {
      "cell_type": "code",
      "source": [
        "train_data.info()"
      ],
      "metadata": {
        "colab": {
          "base_uri": "https://localhost:8080/"
        },
        "id": "wkk9g5M8yB44",
        "outputId": "bb8401f8-9004-4318-9ae5-2f543b22c742"
      },
      "execution_count": 52,
      "outputs": [
        {
          "output_type": "stream",
          "name": "stdout",
          "text": [
            "<class 'pandas.core.frame.DataFrame'>\n",
            "RangeIndex: 1000 entries, 0 to 999\n",
            "Data columns (total 5 columns):\n",
            " #   Column          Non-Null Count  Dtype  \n",
            "---  ------          --------------  -----  \n",
            " 0   home_owner      1000 non-null   int64  \n",
            " 1   monthly_income  1000 non-null   int64  \n",
            " 2   debt_to_income  1000 non-null   float64\n",
            " 3   fico_score      1000 non-null   int64  \n",
            " 4   loan_status     1000 non-null   int64  \n",
            "dtypes: float64(1), int64(4)\n",
            "memory usage: 39.2 KB\n"
          ]
        }
      ]
    },
    {
      "cell_type": "code",
      "source": [
        "train_data.describe()"
      ],
      "metadata": {
        "colab": {
          "base_uri": "https://localhost:8080/",
          "height": 300
        },
        "id": "PAbbPZc3FADP",
        "outputId": "9c579156-48f0-4279-ab8d-411738892d8b"
      },
      "execution_count": 54,
      "outputs": [
        {
          "output_type": "execute_result",
          "data": {
            "text/plain": [
              "        home_owner  monthly_income  debt_to_income   fico_score  loan_status\n",
              "count  1000.000000     1000.000000     1000.000000  1000.000000  1000.000000\n",
              "mean      0.608000    44038.046000       18.027300   695.990000     0.805000\n",
              "std       0.488441    35108.230931        8.211567    32.119333     0.396399\n",
              "min       0.000000     8424.000000        0.000000   660.000000     0.000000\n",
              "25%       0.000000    26325.000000       12.047500   670.000000     1.000000\n",
              "50%       1.000000    37440.000000       17.425000   690.000000     1.000000\n",
              "75%       1.000000    52650.000000       23.485000   710.000000     1.000000\n",
              "max       1.000000   585000.000000       40.520000   835.000000     1.000000"
            ],
            "text/html": [
              "\n",
              "  <div id=\"df-16ba4c7f-0f61-4e61-9ded-0b80cadf0426\">\n",
              "    <div class=\"colab-df-container\">\n",
              "      <div>\n",
              "<style scoped>\n",
              "    .dataframe tbody tr th:only-of-type {\n",
              "        vertical-align: middle;\n",
              "    }\n",
              "\n",
              "    .dataframe tbody tr th {\n",
              "        vertical-align: top;\n",
              "    }\n",
              "\n",
              "    .dataframe thead th {\n",
              "        text-align: right;\n",
              "    }\n",
              "</style>\n",
              "<table border=\"1\" class=\"dataframe\">\n",
              "  <thead>\n",
              "    <tr style=\"text-align: right;\">\n",
              "      <th></th>\n",
              "      <th>home_owner</th>\n",
              "      <th>monthly_income</th>\n",
              "      <th>debt_to_income</th>\n",
              "      <th>fico_score</th>\n",
              "      <th>loan_status</th>\n",
              "    </tr>\n",
              "  </thead>\n",
              "  <tbody>\n",
              "    <tr>\n",
              "      <th>count</th>\n",
              "      <td>1000.000000</td>\n",
              "      <td>1000.000000</td>\n",
              "      <td>1000.000000</td>\n",
              "      <td>1000.000000</td>\n",
              "      <td>1000.000000</td>\n",
              "    </tr>\n",
              "    <tr>\n",
              "      <th>mean</th>\n",
              "      <td>0.608000</td>\n",
              "      <td>44038.046000</td>\n",
              "      <td>18.027300</td>\n",
              "      <td>695.990000</td>\n",
              "      <td>0.805000</td>\n",
              "    </tr>\n",
              "    <tr>\n",
              "      <th>std</th>\n",
              "      <td>0.488441</td>\n",
              "      <td>35108.230931</td>\n",
              "      <td>8.211567</td>\n",
              "      <td>32.119333</td>\n",
              "      <td>0.396399</td>\n",
              "    </tr>\n",
              "    <tr>\n",
              "      <th>min</th>\n",
              "      <td>0.000000</td>\n",
              "      <td>8424.000000</td>\n",
              "      <td>0.000000</td>\n",
              "      <td>660.000000</td>\n",
              "      <td>0.000000</td>\n",
              "    </tr>\n",
              "    <tr>\n",
              "      <th>25%</th>\n",
              "      <td>0.000000</td>\n",
              "      <td>26325.000000</td>\n",
              "      <td>12.047500</td>\n",
              "      <td>670.000000</td>\n",
              "      <td>1.000000</td>\n",
              "    </tr>\n",
              "    <tr>\n",
              "      <th>50%</th>\n",
              "      <td>1.000000</td>\n",
              "      <td>37440.000000</td>\n",
              "      <td>17.425000</td>\n",
              "      <td>690.000000</td>\n",
              "      <td>1.000000</td>\n",
              "    </tr>\n",
              "    <tr>\n",
              "      <th>75%</th>\n",
              "      <td>1.000000</td>\n",
              "      <td>52650.000000</td>\n",
              "      <td>23.485000</td>\n",
              "      <td>710.000000</td>\n",
              "      <td>1.000000</td>\n",
              "    </tr>\n",
              "    <tr>\n",
              "      <th>max</th>\n",
              "      <td>1.000000</td>\n",
              "      <td>585000.000000</td>\n",
              "      <td>40.520000</td>\n",
              "      <td>835.000000</td>\n",
              "      <td>1.000000</td>\n",
              "    </tr>\n",
              "  </tbody>\n",
              "</table>\n",
              "</div>\n",
              "      <button class=\"colab-df-convert\" onclick=\"convertToInteractive('df-16ba4c7f-0f61-4e61-9ded-0b80cadf0426')\"\n",
              "              title=\"Convert this dataframe to an interactive table.\"\n",
              "              style=\"display:none;\">\n",
              "        \n",
              "  <svg xmlns=\"http://www.w3.org/2000/svg\" height=\"24px\"viewBox=\"0 0 24 24\"\n",
              "       width=\"24px\">\n",
              "    <path d=\"M0 0h24v24H0V0z\" fill=\"none\"/>\n",
              "    <path d=\"M18.56 5.44l.94 2.06.94-2.06 2.06-.94-2.06-.94-.94-2.06-.94 2.06-2.06.94zm-11 1L8.5 8.5l.94-2.06 2.06-.94-2.06-.94L8.5 2.5l-.94 2.06-2.06.94zm10 10l.94 2.06.94-2.06 2.06-.94-2.06-.94-.94-2.06-.94 2.06-2.06.94z\"/><path d=\"M17.41 7.96l-1.37-1.37c-.4-.4-.92-.59-1.43-.59-.52 0-1.04.2-1.43.59L10.3 9.45l-7.72 7.72c-.78.78-.78 2.05 0 2.83L4 21.41c.39.39.9.59 1.41.59.51 0 1.02-.2 1.41-.59l7.78-7.78 2.81-2.81c.8-.78.8-2.07 0-2.86zM5.41 20L4 18.59l7.72-7.72 1.47 1.35L5.41 20z\"/>\n",
              "  </svg>\n",
              "      </button>\n",
              "      \n",
              "  <style>\n",
              "    .colab-df-container {\n",
              "      display:flex;\n",
              "      flex-wrap:wrap;\n",
              "      gap: 12px;\n",
              "    }\n",
              "\n",
              "    .colab-df-convert {\n",
              "      background-color: #E8F0FE;\n",
              "      border: none;\n",
              "      border-radius: 50%;\n",
              "      cursor: pointer;\n",
              "      display: none;\n",
              "      fill: #1967D2;\n",
              "      height: 32px;\n",
              "      padding: 0 0 0 0;\n",
              "      width: 32px;\n",
              "    }\n",
              "\n",
              "    .colab-df-convert:hover {\n",
              "      background-color: #E2EBFA;\n",
              "      box-shadow: 0px 1px 2px rgba(60, 64, 67, 0.3), 0px 1px 3px 1px rgba(60, 64, 67, 0.15);\n",
              "      fill: #174EA6;\n",
              "    }\n",
              "\n",
              "    [theme=dark] .colab-df-convert {\n",
              "      background-color: #3B4455;\n",
              "      fill: #D2E3FC;\n",
              "    }\n",
              "\n",
              "    [theme=dark] .colab-df-convert:hover {\n",
              "      background-color: #434B5C;\n",
              "      box-shadow: 0px 1px 3px 1px rgba(0, 0, 0, 0.15);\n",
              "      filter: drop-shadow(0px 1px 2px rgba(0, 0, 0, 0.3));\n",
              "      fill: #FFFFFF;\n",
              "    }\n",
              "  </style>\n",
              "\n",
              "      <script>\n",
              "        const buttonEl =\n",
              "          document.querySelector('#df-16ba4c7f-0f61-4e61-9ded-0b80cadf0426 button.colab-df-convert');\n",
              "        buttonEl.style.display =\n",
              "          google.colab.kernel.accessAllowed ? 'block' : 'none';\n",
              "\n",
              "        async function convertToInteractive(key) {\n",
              "          const element = document.querySelector('#df-16ba4c7f-0f61-4e61-9ded-0b80cadf0426');\n",
              "          const dataTable =\n",
              "            await google.colab.kernel.invokeFunction('convertToInteractive',\n",
              "                                                     [key], {});\n",
              "          if (!dataTable) return;\n",
              "\n",
              "          const docLinkHtml = 'Like what you see? Visit the ' +\n",
              "            '<a target=\"_blank\" href=https://colab.research.google.com/notebooks/data_table.ipynb>data table notebook</a>'\n",
              "            + ' to learn more about interactive tables.';\n",
              "          element.innerHTML = '';\n",
              "          dataTable['output_type'] = 'display_data';\n",
              "          await google.colab.output.renderOutput(dataTable, element);\n",
              "          const docLink = document.createElement('div');\n",
              "          docLink.innerHTML = docLinkHtml;\n",
              "          element.appendChild(docLink);\n",
              "        }\n",
              "      </script>\n",
              "    </div>\n",
              "  </div>\n",
              "  "
            ]
          },
          "metadata": {},
          "execution_count": 54
        }
      ]
    },
    {
      "cell_type": "markdown",
      "source": [
        "## Visualizing Geographical Data & Looking for Correlations\n"
      ],
      "metadata": {
        "id": "py2P8SQp8JM1"
      }
    },
    {
      "cell_type": "code",
      "source": [
        "%matplotlib inline\n",
        "import matplotlib.pyplot as plt\n",
        "\n",
        "mortgage_train = train_data.copy()\n",
        "mortgage_train.hist(bins=50, figsize=(20,15))\n",
        "save_fig(\"attribute_histogram_plots\")\n",
        "plt.show()"
      ],
      "metadata": {
        "id": "q6cvsClq1o1F"
      },
      "execution_count": null,
      "outputs": []
    },
    {
      "cell_type": "code",
      "source": [
        "corr_matrix = mortgage_train.corr()\n",
        "corr_matrix[\"loan_status\"].sort_values(ascending=False)\n",
        "\n",
        "from pandas.plotting import scatter_matrix\n",
        "attributes = [\"home_owner\", \"monthly_income\", \"debt_to_income\", \"loan_status\"]\n",
        "scatter_matrix(mortgage_train[attributes], figsize=(12, 8))\n",
        "save_fig(\"scatter_matrix_plot\")"
      ],
      "metadata": {
        "id": "_K4YFKPTzasq"
      },
      "execution_count": null,
      "outputs": []
    },
    {
      "cell_type": "markdown",
      "source": [
        "# Prepare the Data for Machine Learning Algorithms"
      ],
      "metadata": {
        "id": "3p1zN3tb8eFD"
      }
    },
    {
      "cell_type": "markdown",
      "source": [
        "## Divide data and label"
      ],
      "metadata": {
        "id": "bQ6g1aad9AyK"
      }
    },
    {
      "cell_type": "code",
      "source": [
        "x_train = train_data.drop(\"loan_status\", axis=1)\n",
        "y_train = (train_data[\"loan_status\"].copy() == 1)\n",
        "\n",
        "x_test = test_data.drop(\"loan_status\", axis=1)\n",
        "y_test = (test_data[\"loan_status\"].copy() == 1)"
      ],
      "metadata": {
        "id": "w8gRwIrC9Me5"
      },
      "execution_count": 74,
      "outputs": []
    },
    {
      "cell_type": "markdown",
      "source": [
        "## Transformation Pipelines\n",
        "\n",
        "Data Cleaning + Standardization\n",
        "\n",
        "There is actually no need to do data cleaning this time as seen from info there's no missing data from the original file. But there's no harm defining here for re-use as it runs only for misssing ones."
      ],
      "metadata": {
        "id": "q84NOZzn8t3M"
      }
    },
    {
      "cell_type": "code",
      "source": [
        "# Transformation pipelines make it clean and also clear for reusability\n",
        "from sklearn.pipeline import Pipeline\n",
        "from sklearn.impute import SimpleImputer\n",
        "from sklearn.preprocessing import StandardScaler\n",
        "\n",
        "num_pipeline = Pipeline([\n",
        "        ('imputer', SimpleImputer(strategy=\"median\")),\n",
        "        ('std_scaler', StandardScaler()),\n",
        "    ])\n",
        "\n",
        "x_train_std = num_pipeline.fit_transform(x_train)\n",
        "x_test_std = num_pipeline.fit_transform(x_test)"
      ],
      "metadata": {
        "id": "bXpC3Cue8fbQ"
      },
      "execution_count": 75,
      "outputs": []
    },
    {
      "cell_type": "markdown",
      "source": [
        "## Training and Evaluating on the Training Set\n",
        "\n",
        "There is no non-num attributes, thus height_train_tr is ready for traning!"
      ],
      "metadata": {
        "id": "ClyntUof-880"
      }
    },
    {
      "cell_type": "code",
      "source": [
        "from sklearn.linear_model import SGDClassifier\n",
        "from sklearn.model_selection import cross_val_predict\n",
        "from sklearn.metrics import confusion_matrix\n",
        "\n",
        "#from sklearn.model_selection import cross_val_score\n",
        "from sklearn.metrics import precision_score, recall_score\n",
        "\n",
        "sgd_clf = SGDClassifier(random_state=42)\n",
        "y_train_pred = cross_val_predict(sgd_clf, x_train_std, y_train, cv=3)"
      ],
      "metadata": {
        "id": "2i34nSe9BFtJ"
      },
      "execution_count": 76,
      "outputs": []
    },
    {
      "cell_type": "code",
      "source": [
        "confusion_matrix(y_train, y_train_pred)"
      ],
      "metadata": {
        "colab": {
          "base_uri": "https://localhost:8080/"
        },
        "id": "1pEyUhL5Eqbi",
        "outputId": "4b273655-b1c2-4702-8fe0-7cc499f5646d"
      },
      "execution_count": 77,
      "outputs": [
        {
          "output_type": "execute_result",
          "data": {
            "text/plain": [
              "array([[  9, 186],\n",
              "       [ 25, 780]])"
            ]
          },
          "metadata": {},
          "execution_count": 77
        }
      ]
    },
    {
      "cell_type": "code",
      "source": [
        "recall_score(y_train, y_train_pred)"
      ],
      "metadata": {
        "colab": {
          "base_uri": "https://localhost:8080/"
        },
        "id": "N0_wxOE6FKWv",
        "outputId": "c4b43213-a90f-4e6d-ace7-adc6fb191911"
      },
      "execution_count": 78,
      "outputs": [
        {
          "output_type": "execute_result",
          "data": {
            "text/plain": [
              "0.968944099378882"
            ]
          },
          "metadata": {},
          "execution_count": 78
        }
      ]
    },
    {
      "cell_type": "code",
      "source": [
        "precision_score(y_train, y_train_pred)"
      ],
      "metadata": {
        "colab": {
          "base_uri": "https://localhost:8080/"
        },
        "id": "oX7LqOODFLM5",
        "outputId": "e851dcc6-dcfe-4a6e-b116-3b41df8efa21"
      },
      "execution_count": 79,
      "outputs": [
        {
          "output_type": "execute_result",
          "data": {
            "text/plain": [
              "0.8074534161490683"
            ]
          },
          "metadata": {},
          "execution_count": 79
        }
      ]
    },
    {
      "cell_type": "code",
      "source": [
        "# Extract the precisions, recalls and thresholds data from precision_recall_curve()\n",
        "from sklearn.metrics import precision_recall_curve\n",
        "\n",
        "y_scores = cross_val_predict(sgd_clf, x_train_std, y_train, cv=3,\n",
        "                             method=\"decision_function\")\n",
        "precisions, recalls, thresholds = precision_recall_curve(y_train, y_scores)"
      ],
      "metadata": {
        "id": "_TzwhABfFdvl"
      },
      "execution_count": 80,
      "outputs": []
    },
    {
      "cell_type": "code",
      "source": [
        "def plot_precision_recall_vs_threshold(precisions, recalls, thresholds):\n",
        "    plt.plot(thresholds, precisions[:-1], \"b--\", label=\"Precision\", linewidth=2)\n",
        "    plt.plot(thresholds, recalls[:-1], \"g-\", label=\"Recall\", linewidth=2)\n",
        "    plt.legend(loc=\"center right\", fontsize=16) # Not shown in the book\n",
        "    plt.xlabel(\"Threshold\", fontsize=16)        # Not shown\n",
        "    plt.grid(True)                              # Not shown\n",
        "    plt.axis([-2, 8, -0.1, 1.1])             # Not shown\n",
        "\n",
        "\n",
        "\n",
        "recall_90_precision = recalls[np.argmax(precisions >= 0.90)]\n",
        "threshold_90_precision = thresholds[np.argmax(precisions >= 0.90)]\n",
        "\n",
        "\n",
        "plt.figure(figsize=(8, 4))                                                                  # Not shown\n",
        "plot_precision_recall_vs_threshold(precisions, recalls, thresholds)\n",
        "plt.plot([threshold_90_precision, threshold_90_precision], [0., 0.9], \"r:\")                 # Not shown\n",
        "plt.plot([-2, threshold_90_precision], [0.9, 0.9], \"r:\")                                # Not shown\n",
        "plt.plot([-2, threshold_90_precision], [recall_90_precision, recall_90_precision], \"r:\")# Not shown\n",
        "plt.plot([threshold_90_precision], [0.9], \"ro\")                                             # Not shown\n",
        "plt.plot([threshold_90_precision], [recall_90_precision], \"ro\")                             # Not shown\n",
        "save_fig(\"precision_recall_vs_threshold_plot\")                                              # Not shown\n",
        "plt.show()"
      ],
      "metadata": {
        "colab": {
          "base_uri": "https://localhost:8080/",
          "height": 315
        },
        "id": "OEmAjUQ2Fw1w",
        "outputId": "0e54c9b8-a323-492c-d56c-6ccf36361394"
      },
      "execution_count": 81,
      "outputs": [
        {
          "output_type": "stream",
          "name": "stdout",
          "text": [
            "Saving figure precision_recall_vs_threshold_plot\n"
          ]
        },
        {
          "output_type": "display_data",
          "data": {
            "text/plain": [
              "<Figure size 576x288 with 1 Axes>"
            ],
            "image/png": "[encoded data removed]"
          },
          "metadata": {
            "needs_background": "light"
          }
        }
      ]
    },
    {
      "cell_type": "code",
      "source": [
        "def plot_precision_vs_recall(precisions, recalls):\n",
        "    plt.plot(recalls, precisions, \"b-\", linewidth=2)\n",
        "    plt.xlabel(\"Recall\", fontsize=16)\n",
        "    plt.ylabel(\"Precision\", fontsize=16)\n",
        "    plt.axis([0, 1, 0, 1])\n",
        "    plt.grid(True)\n",
        "\n",
        "plt.figure(figsize=(8, 6))\n",
        "plot_precision_vs_recall(precisions, recalls)\n",
        "plt.plot([recall_90_precision, recall_90_precision], [0., 0.9], \"r:\")\n",
        "plt.plot([0.0, recall_90_precision], [0.9, 0.9], \"r:\")\n",
        "plt.plot([recall_90_precision], [0.9], \"ro\")\n",
        "save_fig(\"precision_vs_recall_plot\")\n",
        "plt.show()"
      ],
      "metadata": {
        "colab": {
          "base_uri": "https://localhost:8080/",
          "height": 459
        },
        "id": "_Y0HjPztI4HP",
        "outputId": "9bd1fc9c-ecd3-4daf-e1f4-2c0a725f6028"
      },
      "execution_count": 82,
      "outputs": [
        {
          "output_type": "stream",
          "name": "stdout",
          "text": [
            "Saving figure precision_vs_recall_plot\n"
          ]
        },
        {
          "output_type": "display_data",
          "data": {
            "text/plain": [
              "<Figure size 576x432 with 1 Axes>"
            ],
            "image/png": "[encoded data removed]"
          },
          "metadata": {
            "needs_background": "light"
          }
        }
      ]
    },
    {
      "cell_type": "markdown",
      "source": [
        "## The ROC Curve (*Receiver Operation Characteristic Curve*)"
      ],
      "metadata": {
        "id": "CeQ2XoyLJVdF"
      }
    },
    {
      "cell_type": "code",
      "source": [
        "from sklearn.metrics import roc_curve\n",
        "from sklearn.metrics import roc_auc_score\n",
        "\n",
        "fpr, tpr, thresholds = roc_curve(y_train, y_scores)\n",
        "def plot_roc_curve(fpr, tpr, label=None):\n",
        "    plt.plot(fpr, tpr, linewidth=2, label=label)\n",
        "    plt.plot([0, 1], [0, 1], 'k--') # dashed diagonal\n",
        "    plt.axis([0, 1, 0, 1])                                    # Not shown in the book\n",
        "    plt.xlabel('False Positive Rate (Fall-Out)', fontsize=16) # Not shown\n",
        "    plt.ylabel('True Positive Rate (Recall)', fontsize=16)    # Not shown\n",
        "    plt.grid(True)                                            # Not shown\n",
        "\n",
        "plt.figure(figsize=(8, 6))                                    # Not shown\n",
        "plot_roc_curve(fpr, tpr)\n",
        "fpr_90 = fpr[np.argmax(tpr >= recall_90_precision)]           # Not shown\n",
        "plt.plot([fpr_90, fpr_90], [0., recall_90_precision], \"r:\")   # Not shown\n",
        "plt.plot([0.0, fpr_90], [recall_90_precision, recall_90_precision], \"r:\")  # Not shown\n",
        "plt.plot([fpr_90], [recall_90_precision], \"ro\")               # Not shown\n",
        "save_fig(\"roc_curve_plot\")                                    # Not shown\n",
        "plt.show()"
      ],
      "metadata": {
        "colab": {
          "base_uri": "https://localhost:8080/",
          "height": 459
        },
        "id": "VxL70dxGJWe9",
        "outputId": "89eac03b-8fad-44ee-8530-64941899c7e5"
      },
      "execution_count": 83,
      "outputs": [
        {
          "output_type": "stream",
          "name": "stdout",
          "text": [
            "Saving figure roc_curve_plot\n"
          ]
        },
        {
          "output_type": "display_data",
          "data": {
            "text/plain": [
              "<Figure size 576x432 with 1 Axes>"
            ],
            "image/png": "[encoded data removed]"
          },
          "metadata": {
            "needs_background": "light"
          }
        }
      ]
    },
    {
      "cell_type": "code",
      "source": [
        "roc_auc_score(y_train, y_scores)"
      ],
      "metadata": {
        "colab": {
          "base_uri": "https://localhost:8080/"
        },
        "id": "TVq8jbIsJjOX",
        "outputId": "b1c32330-c42f-48b9-c514-104c01e3dfcb"
      },
      "execution_count": 84,
      "outputs": [
        {
          "output_type": "execute_result",
          "data": {
            "text/plain": [
              "0.5866475553432076"
            ]
          },
          "metadata": {},
          "execution_count": 84
        }
      ]
    },
    {
      "cell_type": "code",
      "source": [
        "from sklearn.ensemble import RandomForestClassifier\n",
        "from sklearn.linear_model import LogisticRegression\n",
        "\n",
        "#random forest\n",
        "forest_clf = RandomForestClassifier(n_estimators=1000, random_state=42)\n",
        "y_probas_forest = cross_val_predict(forest_clf, x_train_std, y_train, cv=3,\n",
        "                                    method=\"predict_proba\")\n",
        "y_scores_forest = y_probas_forest[:, 1] # score = proba of positive class\n",
        "fpr_forest, tpr_forest, thresholds_forest = roc_curve(y_train,y_scores_forest)\n",
        "\n",
        "recall_for_forest = tpr_forest[np.argmax(fpr_forest >= fpr_90)]\n",
        "\n",
        "#logistic regression\n",
        "lr_clf = LogisticRegression(random_state=42)\n",
        "y_probas_lr = cross_val_predict(lr_clf, x_train_std, y_train, cv=3,\n",
        "                                    method=\"predict_proba\")\n",
        "y_scores_lr = y_probas_lr[:, 1] # score = proba of positive class\n",
        "fpr_lr, tpr_lr, thresholds_lr = roc_curve(y_train,y_scores_lr)\n",
        "\n",
        "\n",
        "plt.figure(figsize=(8, 6))\n",
        "plt.plot(fpr, tpr, \"b:\", linewidth=2, label=\"SGD\")\n",
        "plt.plot(fpr_lr, tpr_lr, \"g-\", linewidth=2, label = \"Logistic Regression\")\n",
        "plot_roc_curve(fpr_forest, tpr_forest, \"Random Forest\")\n",
        "plt.plot([fpr_90, fpr_90], [0., recall_90_precision], \"r:\")\n",
        "plt.plot([0.0, fpr_90], [recall_90_precision, recall_90_precision], \"r:\")\n",
        "plt.plot([fpr_90], [recall_90_precision], \"ro\")\n",
        "plt.plot([fpr_90, fpr_90], [0., recall_for_forest], \"r:\")\n",
        "plt.plot([fpr_90], [recall_for_forest], \"ro\")\n",
        "plt.grid(True)\n",
        "plt.legend(loc=\"lower right\", fontsize=16)\n",
        "save_fig(\"roc_curve_comparison_plot\")\n",
        "plt.show()"
      ],
      "metadata": {
        "colab": {
          "base_uri": "https://localhost:8080/",
          "height": 459
        },
        "id": "YOf-SAyxJ6Uv",
        "outputId": "0ffca9ac-543f-4a43-fff3-2b88ddf19bef"
      },
      "execution_count": 85,
      "outputs": [
        {
          "output_type": "stream",
          "name": "stdout",
          "text": [
            "Saving figure roc_curve_comparison_plot\n"
          ]
        },
        {
          "output_type": "display_data",
          "data": {
            "text/plain": [
              "<Figure size 576x432 with 1 Axes>"
            ],
            "image/png": "[encoded data removed]"
          },
          "metadata": {
            "needs_background": "light"
          }
        }
      ]
    },
    {
      "cell_type": "code",
      "source": [
        "y_train_pred_forest = cross_val_predict(forest_clf, x_train_std, y_train, cv=3)\n",
        "y_train_pred_lr = cross_val_predict(lr_clf,x_train_std, y_train, cv=3)\n",
        "accuracy_forest = precision_score(y_train, y_train_pred_forest)\n",
        "sensitivity_forest = recall_score(y_train, y_train_pred_forest)\n",
        "\n",
        "accuracy_lr = precision_score(y_train, y_train_pred_lr)\n",
        "sensitivity_lr = recall_score(y_train, y_train_pred_lr)\n",
        "\n",
        "print(\"forest accuracy\", accuracy_forest)\n",
        "print(\"forest sensitivity\", sensitivity_forest)\n",
        "print(\"logistic regression accuracy\", accuracy_lr)\n",
        "print(\"logistic regression sensitivity\", sensitivity_lr)"
      ],
      "metadata": {
        "colab": {
          "base_uri": "https://localhost:8080/"
        },
        "id": "3eq6m3gKSQ3r",
        "outputId": "d08ad869-6812-4456-aad3-c393e48bcb7f"
      },
      "execution_count": 90,
      "outputs": [
        {
          "output_type": "stream",
          "name": "stdout",
          "text": [
            "forest accuracy 0.816414686825054\n",
            "forest sensitivity 0.9391304347826087\n",
            "logistic regression accuracy 0.8064516129032258\n",
            "logistic regression sensitivity 0.9937888198757764\n"
          ]
        }
      ]
    },
    {
      "cell_type": "code",
      "source": [
        "roc_auc_score(y_train, y_scores_forest)"
      ],
      "metadata": {
        "colab": {
          "base_uri": "https://localhost:8080/"
        },
        "id": "-HwvLpFrWQnj",
        "outputId": "a23da1ac-f7fc-4ab8-da10-4c8405652da2"
      },
      "execution_count": 87,
      "outputs": [
        {
          "output_type": "execute_result",
          "data": {
            "text/plain": [
              "0.6077719382067208"
            ]
          },
          "metadata": {},
          "execution_count": 87
        }
      ]
    },
    {
      "cell_type": "code",
      "source": [
        "roc_auc_score(y_train, y_scores_lr)"
      ],
      "metadata": {
        "colab": {
          "base_uri": "https://localhost:8080/"
        },
        "id": "9KtWT8l6GGMx",
        "outputId": "57a399e3-5c60-4cb3-fb75-01fb97a05088"
      },
      "execution_count": 88,
      "outputs": [
        {
          "output_type": "execute_result",
          "data": {
            "text/plain": [
              "0.671323459149546"
            ]
          },
          "metadata": {},
          "execution_count": 88
        }
      ]
    },
    {
      "cell_type": "code",
      "source": [
        "# random search logistic regression model\n",
        "from scipy.stats import loguniform\n",
        "from sklearn.model_selection import RepeatedStratifiedKFold\n",
        "from sklearn.model_selection import RandomizedSearchCV\n",
        "\n",
        "model = LogisticRegression()\n",
        "# define evaluation\n",
        "cv = RepeatedStratifiedKFold(n_splits=10, n_repeats=3, random_state=1)\n",
        "# define search space\n",
        "space = dict()\n",
        "space['solver'] = ['newton-cg', 'lbfgs', 'liblinear']\n",
        "space['penalty'] = ['none', 'l1', 'l2', 'elasticnet']\n",
        "space['C'] = loguniform(1e-5, 100)\n",
        "# define search\n",
        "search = RandomizedSearchCV(model, space, n_iter=500, scoring='accuracy', n_jobs=-1, cv=cv, random_state=42)\n",
        "# execute search\n",
        "result = search.fit(x_train_std, y_train)\n",
        "# summarize result\n",
        "print('Best Score: %s' % result.best_score_)\n",
        "print('Best Hyperparameters: %s' % result.best_params_)"
      ],
      "metadata": {
        "id": "cirn68LmFiJi"
      },
      "execution_count": null,
      "outputs": []
    },
    {
      "cell_type": "code",
      "source": [
        "#{'C': 0.0059892483184825155, 'penalty': 'l2', 'solver': 'newton-cg'}\n",
        "lr_clf_best = LogisticRegression(penalty=\"l2\",solver=\"newton-cg\", C=0.0059892483184825155)\n",
        "y_probas_lr_best = cross_val_predict(lr_clf_best, x_train_std, y_train, cv=3,\n",
        "                                    method=\"predict_proba\")\n",
        "y_scores_lr_best = y_probas_lr[:, 1] # score = proba of positive class\n",
        "roc_auc_score(y_train, y_scores_lr_best)"
      ],
      "metadata": {
        "colab": {
          "base_uri": "https://localhost:8080/"
        },
        "id": "9tOrCNMDPiST",
        "outputId": "47302aba-308b-4c8d-bcdc-5927fc380a9d"
      },
      "execution_count": 92,
      "outputs": [
        {
          "output_type": "execute_result",
          "data": {
            "text/plain": [
              "0.671323459149546"
            ]
          },
          "metadata": {},
          "execution_count": 92
        }
      ]
    },
    {
      "cell_type": "code",
      "source": [
        "y_train_pred_lr_best = cross_val_predict(lr_clf_best, x_train_std, y_train, cv=3)\n",
        "recall_score(y_train, y_train_pred_lr_best)"
      ],
      "metadata": {
        "colab": {
          "base_uri": "https://localhost:8080/"
        },
        "id": "JiMn8zLpYUCY",
        "outputId": "b5999d08-907e-4fb5-8b3e-466485047755"
      },
      "execution_count": 95,
      "outputs": [
        {
          "output_type": "execute_result",
          "data": {
            "text/plain": [
              "1.0"
            ]
          },
          "metadata": {},
          "execution_count": 95
        }
      ]
    },
    {
      "cell_type": "markdown",
      "source": [
        "###Working on Test data set\n",
        "\n",
        "As Rrandom forest model has higher scores than SGD, here we choose RF as our model to work on"
      ],
      "metadata": {
        "id": "oh-W1hhDV2dx"
      }
    },
    {
      "cell_type": "code",
      "source": [
        "lr_clf = LogisticRegression()\n",
        "final_model = lr_clf.fit(x_train_std,y_train)\n",
        "final_probas = final_model.predict_proba(x_test_std)\n",
        "final_scores = final_probas[:,1]\n",
        "fpr_lr_final, tpr_lr_final, thresholds_lr_final = roc_curve(y_test,final_scores)\n",
        "\n",
        "\n",
        "plt.figure(figsize=(8, 6))\n",
        "plot_roc_curve(fpr_lr_final, tpr_lr_final, \"Logistic Regression\")\n",
        "plt.grid(True)\n",
        "plt.legend(loc=\"lower right\", fontsize=16)\n",
        "save_fig(\"roc_curve_comparison_plot\")\n",
        "plt.show()"
      ],
      "metadata": {
        "colab": {
          "base_uri": "https://localhost:8080/",
          "height": 459
        },
        "id": "E16RQDsRfOls",
        "outputId": "44f367e8-d677-4f42-ffff-68a219960cf6"
      },
      "execution_count": 99,
      "outputs": [
        {
          "output_type": "stream",
          "name": "stdout",
          "text": [
            "Saving figure roc_curve_comparison_plot\n"
          ]
        },
        {
          "output_type": "display_data",
          "data": {
            "text/plain": [
              "<Figure size 576x432 with 1 Axes>"
            ],
            "image/png": "[encoded data removed]"
          },
          "metadata": {
            "needs_background": "light"
          }
        }
      ]
    },
    {
      "cell_type": "code",
      "source": [
        "y_test_pred_lr = cross_val_predict(final_model,x_test_std, y_test)\n",
        "\n",
        "accuracy_lr_final = precision_score(y_test, y_test_pred_lr)\n",
        "sensitivity_lr_final = recall_score(y_test, y_test_pred_lr)\n",
        "\n",
        "print(\"logistic regression accuracy\", accuracy_lr_final)\n",
        "print(\"logistic regression sensitivity\", sensitivity_lr_final)"
      ],
      "metadata": {
        "colab": {
          "base_uri": "https://localhost:8080/"
        },
        "id": "SEpMS_8ubcVl",
        "outputId": "ea174ff4-4b88-42e5-d58f-bd81202b3560"
      },
      "execution_count": 100,
      "outputs": [
        {
          "output_type": "stream",
          "name": "stdout",
          "text": [
            "logistic regression accuracy 0.77\n",
            "logistic regression sensitivity 1.0\n"
          ]
        }
      ]
    },
    {
      "cell_type": "code",
      "source": [
        "y_test_pred_lr"
      ],
      "metadata": {
        "id": "Bji9Y1pVeB3j"
      },
      "execution_count": null,
      "outputs": []
    },
    {
      "cell_type": "code",
      "source": [
        "roc_auc_score(y_test, final_scores)"
      ],
      "metadata": {
        "colab": {
          "base_uri": "https://localhost:8080/"
        },
        "id": "wZQzlZlkZZUU",
        "outputId": "70b16268-1b59-4436-ab3d-0849e93ab0a5"
      },
      "execution_count": 101,
      "outputs": [
        {
          "output_type": "execute_result",
          "data": {
            "text/plain": [
              "0.6191417278373801"
            ]
          },
          "metadata": {},
          "execution_count": 101
        }
      ]
    }
  ]
}